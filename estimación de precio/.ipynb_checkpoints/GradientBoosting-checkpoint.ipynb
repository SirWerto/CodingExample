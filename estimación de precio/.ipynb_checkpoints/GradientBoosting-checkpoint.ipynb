{
 "cells": [
  {
   "cell_type": "code",
   "execution_count": 1,
   "metadata": {},
   "outputs": [],
   "source": [
    "import pandas as pd\n",
    "import numpy as np\n",
    "from sklearn.model_selection import train_test_split\n",
    "from sklearn.ensemble import GradientBoostingClassifier\n",
    "from sklearn.metrics import plot_roc_curve, roc_auc_score\n",
    "import time\n",
    "from datetime import datetime\n",
    "from math import pi,sin\n",
    "import matplotlib.pyplot as plt\n",
    "from matplotlib.pyplot import figure"
   ]
  },
  {
   "cell_type": "code",
   "execution_count": 2,
   "metadata": {},
   "outputs": [],
   "source": [
    "data = pd.read_csv(\"train.csv\")\n",
    "data = data.astype({'hour' : 'int32', 'transport_mode' : 'int32'})"
   ]
  },
  {
   "cell_type": "code",
   "execution_count": 3,
   "metadata": {},
   "outputs": [],
   "source": [
    "data['date'] = pd.to_datetime(data['date'], format=\"%Y-%m-%d\")\n",
    "data['weekday'] = data['date'].dt.date.apply(lambda x: x.weekday())\n",
    "data['weekend'] = np.where(data['weekday']>=5, 1, 0)\n",
    "# wT = 2pi -> w = 0.8975979010256552 para hacerla circular\n",
    "data['weekday'] = data['weekday'].apply(lambda x: sin(x*0.8975979010256552))\n",
    "#data['month'] = data['date'].dt.date.apply(lambda x: x.month)\n",
    "del data['date']\n",
    "del data['sid']"
   ]
  },
  {
   "cell_type": "code",
   "execution_count": 4,
   "metadata": {},
   "outputs": [],
   "source": [
    "#Put bT at the end\n",
    "cols = data.columns.tolist()\n",
    "cols.append(cols.pop(cols.index('weekend')))\n",
    "cols.append(cols.pop(cols.index('transport_mode')))\n",
    "cols.append(cols.pop(cols.index('binaryTarget')))\n",
    "data = data[cols]"
   ]
  },
  {
   "cell_type": "code",
   "execution_count": 5,
   "metadata": {},
   "outputs": [],
   "source": [
    "prop = 0.2/0.8\n",
    "temp, test = train_test_split(data, test_size=0.2)\n",
    "train, val = train_test_split(temp, test_size=prop)\n",
    "del temp"
   ]
  },
  {
   "cell_type": "code",
   "execution_count": 6,
   "metadata": {},
   "outputs": [],
   "source": [
    "x_train = train[train.columns[:-1]].values\n",
    "y_train = train[\"binaryTarget\"].values\n",
    "x_val = val[val.columns[:-1]].values\n",
    "y_val = val[\"binaryTarget\"].values\n",
    "x_test = test[test.columns[:-1]].values\n",
    "y_test = test[\"binaryTarget\"].values"
   ]
  },
  {
   "cell_type": "markdown",
   "metadata": {},
   "source": [
    "Gradient"
   ]
  },
  {
   "cell_type": "code",
   "execution_count": 7,
   "metadata": {},
   "outputs": [],
   "source": [
    "gb = GradientBoostingClassifier(n_estimators=300 ,max_depth=5, random_state=2, verbose=0, learning_rate=0.2)"
   ]
  },
  {
   "cell_type": "code",
   "execution_count": 8,
   "metadata": {},
   "outputs": [
    {
     "data": {
      "text/plain": [
       "GradientBoostingClassifier(ccp_alpha=0.0, criterion='friedman_mse', init=None,\n",
       "                           learning_rate=0.2, loss='deviance', max_depth=5,\n",
       "                           max_features=None, max_leaf_nodes=None,\n",
       "                           min_impurity_decrease=0.0, min_impurity_split=None,\n",
       "                           min_samples_leaf=1, min_samples_split=2,\n",
       "                           min_weight_fraction_leaf=0.0, n_estimators=300,\n",
       "                           n_iter_no_change=None, presort='deprecated',\n",
       "                           random_state=2, subsample=1.0, tol=0.0001,\n",
       "                           validation_fraction=0.1, verbose=0,\n",
       "                           warm_start=False)"
      ]
     },
     "execution_count": 8,
     "metadata": {},
     "output_type": "execute_result"
    }
   ],
   "source": [
    "gb.fit(x_train, y_train)"
   ]
  },
  {
   "cell_type": "code",
   "execution_count": 9,
   "metadata": {},
   "outputs": [
    {
     "data": {
      "text/plain": [
       "0.8351616793980817"
      ]
     },
     "execution_count": 9,
     "metadata": {},
     "output_type": "execute_result"
    }
   ],
   "source": [
    "gb.score(x_val, y_val)"
   ]
  },
  {
   "cell_type": "code",
   "execution_count": 10,
   "metadata": {},
   "outputs": [
    {
     "data": {
      "text/plain": [
       "0.8342307416182067"
      ]
     },
     "execution_count": 10,
     "metadata": {},
     "output_type": "execute_result"
    }
   ],
   "source": [
    "gb.score(x_test, y_test)"
   ]
  },
  {
   "cell_type": "code",
   "execution_count": 11,
   "metadata": {},
   "outputs": [
    {
     "data": {
      "image/png": "[encoded data removed]",
      "text/plain": [
       "<Figure size 432x288 with 1 Axes>"
      ]
     },
     "metadata": {
      "needs_background": "light"
     },
     "output_type": "display_data"
    },
    {
     "data": {
      "text/plain": [
       "<Figure size 864x360 with 0 Axes>"
      ]
     },
     "metadata": {},
     "output_type": "display_data"
    }
   ],
   "source": [
    "ax = plt.gca()\n",
    "gb_plot_test = plot_roc_curve(gb, x_test, y_test, ax=ax, alpha=0.8)\n",
    "#clf_plot_val = plot_roc_curve(clf, x_val, y_val, ax=ax, alpha=0.8)\n",
    "plt.figure(figsize=(12,5))\n",
    "plt.show()"
   ]
  },
  {
   "cell_type": "code",
   "execution_count": null,
   "metadata": {},
   "outputs": [],
   "source": [
    "score1 = []\n",
    "score2 = []\n",
    "score3 = []\n",
    "score5 = []\n",
    "scoreNone = []\n",
    "auc1 = []\n",
    "auc2 = []\n",
    "auc3 = []\n",
    "auc5 = []\n",
    "aucNone = []\n",
    "n_trees = list(range(1,51))\n",
    "rfc1 = GradientBoostingClassifier(n_estimators=1 ,max_depth=1, random_state=2, verbose=0, learning_rate=0.1)\n",
    "rfc2 = GradientBoostingClassifier(n_estimators=1 ,max_depth=2, random_state=2, verbose=0, learning_rate=0.1)\n",
    "rfc3 = GradientBoostingClassifier(n_estimators=1 ,max_depth=3, random_state=2, verbose=0, learning_rate=0.2)\n",
    "rfc5 = GradientBoostingClassifier(n_estimators=1 ,max_depth=5, random_state=2, verbose=0, learning_rate=0.2)\n",
    "rfcNone = GradientBoostingClassifier(n_estimators=1 ,max_depth=None, random_state=2, verbose=0, learning_rate=0.2)\n",
    "for i in n_trees:\n",
    "    rfc1.set_params(n_estimators=i)\n",
    "    rfc2.set_params(n_estimators=i)\n",
    "    rfc3.set_params(n_estimators=i)\n",
    "    rfc5.set_params(n_estimators=i)\n",
    "    rfcNone.set_params(n_estimators=i)\n",
    "\n",
    "    rfc1.fit(x_train, y_train)\n",
    "    rfc2.fit(x_train, y_train)\n",
    "    rfc3.fit(x_train, y_train)\n",
    "    rfc5.fit(x_train, y_train)\n",
    "    rfcNone.fit(x_train, y_train)\n",
    "    score1.append(rfc1.score(x_test, y_test))\n",
    "    score2.append(rfc2.score(x_test, y_test))\n",
    "    score3.append(rfc3.score(x_test, y_test))\n",
    "    score5.append(rfc5.score(x_test, y_test))\n",
    "    scoreNone.append(rfcNone.score(x_test, y_test))\n",
    "    auc1.append(roc_auc_score(y_test, rfc1.predict(x_test)))\n",
    "    auc2.append(roc_auc_score(y_test, rfc2.predict(x_test)))\n",
    "    auc3.append(roc_auc_score(y_test, rfc3.predict(x_test)))\n",
    "    auc5.append(roc_auc_score(y_test, rfc5.predict(x_test)))\n",
    "    aucNone.append(roc_auc_score(y_test, rfcNone.predict(x_test)))\n",
    "    print(str(i))"
   ]
  },
  {
   "cell_type": "code",
   "execution_count": null,
   "metadata": {},
   "outputs": [],
   "source": [
    "plt.figure(figsize=(12,5))\n",
    "l1 = plt.plot(n_trees, score1, label='Depth 1')\n",
    "l2 = plt.plot(n_trees, score2, label='Depth 2')\n",
    "l3 = plt.plot(n_trees, score3, label='Depth 3')\n",
    "l5 = plt.plot(n_trees, score5, label='Depth 5')\n",
    "lNone = plt.plot(n_trees, scoreNone, label='Depth Max')\n",
    "plt.title('Scores with diff deep')\n",
    "plt.ylabel('Score')\n",
    "plt.xlabel('Nº Estimators')\n",
    "plt.legend()"
   ]
  },
  {
   "cell_type": "code",
   "execution_count": null,
   "metadata": {},
   "outputs": [],
   "source": [
    "plt.figure(figsize=(12,5))\n",
    "l1 = plt.plot(n_trees, auc1, label='Depth 1')\n",
    "l2 = plt.plot(n_trees, auc2, label='Depth 2')\n",
    "l3 = plt.plot(n_trees, auc3, label='Depth 3')\n",
    "l5 = plt.plot(n_trees, auc5, label='Depth 5')\n",
    "lNone = plt.plot(n_trees, aucNone, label='Depth Max')\n",
    "plt.title('AUC with diff deep')\n",
    "plt.ylabel('AUC')\n",
    "plt.xlabel('Nº Estimators')\n",
    "plt.legend()"
   ]
  },
  {
   "cell_type": "code",
   "execution_count": null,
   "metadata": {},
   "outputs": [],
   "source": [
    "score5"
   ]
  },
  {
   "cell_type": "code",
   "execution_count": null,
   "metadata": {},
   "outputs": [],
   "source": []
  }
 ],
 "metadata": {
  "kernelspec": {
   "display_name": "Python 3",
   "language": "python",
   "name": "python3"
  },
  "language_info": {
   "codemirror_mode": {
    "name": "ipython",
    "version": 3
   },
   "file_extension": ".py",
   "mimetype": "text/x-python",
   "name": "python",
   "nbconvert_exporter": "python",
   "pygments_lexer": "ipython3",
   "version": "3.7.6"
  }
 },
 "nbformat": 4,
 "nbformat_minor": 2
}
