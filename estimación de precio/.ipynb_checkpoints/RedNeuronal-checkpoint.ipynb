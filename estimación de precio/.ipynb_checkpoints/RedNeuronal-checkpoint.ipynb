{
 "cells": [
  {
   "cell_type": "code",
   "execution_count": 2,
   "metadata": {},
   "outputs": [
    {
     "name": "stderr",
     "output_type": "stream",
     "text": [
      "Using TensorFlow backend.\n"
     ]
    }
   ],
   "source": [
    "# Imports\n",
    "import pandas as pd\n",
    "import numpy as np\n",
    "from sklearn.model_selection import train_test_split\n",
    "from keras.models import Sequential\n",
    "from keras.layers import Dense\n",
    "from keras.utils import to_categorical\n",
    "from keras import optimizers\n",
    "from keras.utils import plot_model\n",
    "import time\n",
    "from datetime import datetime\n",
    "from math import pi,sin\n",
    "import matplotlib.pyplot as plt\n",
    "from matplotlib.pyplot import figure"
   ]
  },
  {
   "cell_type": "code",
   "execution_count": 3,
   "metadata": {},
   "outputs": [],
   "source": [
    "data = pd.read_csv(\"train.csv\")\n",
    "data = data.astype({'hour' : 'int32', 'transport_mode' : 'int32'})"
   ]
  },
  {
   "cell_type": "code",
   "execution_count": 4,
   "metadata": {},
   "outputs": [
    {
     "data": {
      "text/html": [
       "<div>\n",
       "<style scoped>\n",
       "    .dataframe tbody tr th:only-of-type {\n",
       "        vertical-align: middle;\n",
       "    }\n",
       "\n",
       "    .dataframe tbody tr th {\n",
       "        vertical-align: top;\n",
       "    }\n",
       "\n",
       "    .dataframe thead th {\n",
       "        text-align: right;\n",
       "    }\n",
       "</style>\n",
       "<table border=\"1\" class=\"dataframe\">\n",
       "  <thead>\n",
       "    <tr style=\"text-align: right;\">\n",
       "      <th></th>\n",
       "      <th>sid</th>\n",
       "      <th>date</th>\n",
       "      <th>hour</th>\n",
       "      <th>x_origin_0</th>\n",
       "      <th>y_origin_0</th>\n",
       "      <th>termicSensation_origin</th>\n",
       "      <th>x_destination_0</th>\n",
       "      <th>y_destination_0</th>\n",
       "      <th>termicSensation_destination</th>\n",
       "      <th>transport_mode</th>\n",
       "      <th>distance</th>\n",
       "      <th>price</th>\n",
       "      <th>eta</th>\n",
       "      <th>min_distance</th>\n",
       "      <th>min_price</th>\n",
       "      <th>min_eta</th>\n",
       "      <th>binaryTarget</th>\n",
       "    </tr>\n",
       "  </thead>\n",
       "  <tbody>\n",
       "    <tr>\n",
       "      <th>0</th>\n",
       "      <td>1000014</td>\n",
       "      <td>2018-11-12</td>\n",
       "      <td>17</td>\n",
       "      <td>116.35</td>\n",
       "      <td>39.98</td>\n",
       "      <td>49.65</td>\n",
       "      <td>116.39</td>\n",
       "      <td>39.99</td>\n",
       "      <td>49.65</td>\n",
       "      <td>2</td>\n",
       "      <td>5736.0</td>\n",
       "      <td>300.0</td>\n",
       "      <td>1875.0</td>\n",
       "      <td>5736.0</td>\n",
       "      <td>0.0</td>\n",
       "      <td>1454.0</td>\n",
       "      <td>1.0</td>\n",
       "    </tr>\n",
       "    <tr>\n",
       "      <th>1</th>\n",
       "      <td>1000014</td>\n",
       "      <td>2018-11-12</td>\n",
       "      <td>17</td>\n",
       "      <td>116.35</td>\n",
       "      <td>39.98</td>\n",
       "      <td>49.65</td>\n",
       "      <td>116.39</td>\n",
       "      <td>39.99</td>\n",
       "      <td>49.65</td>\n",
       "      <td>6</td>\n",
       "      <td>6158.0</td>\n",
       "      <td>0.0</td>\n",
       "      <td>1857.0</td>\n",
       "      <td>5736.0</td>\n",
       "      <td>0.0</td>\n",
       "      <td>1454.0</td>\n",
       "      <td>0.0</td>\n",
       "    </tr>\n",
       "    <tr>\n",
       "      <th>2</th>\n",
       "      <td>1000063</td>\n",
       "      <td>2018-11-12</td>\n",
       "      <td>15</td>\n",
       "      <td>116.49</td>\n",
       "      <td>39.91</td>\n",
       "      <td>58.75</td>\n",
       "      <td>116.54</td>\n",
       "      <td>39.93</td>\n",
       "      <td>58.92</td>\n",
       "      <td>1</td>\n",
       "      <td>6644.0</td>\n",
       "      <td>200.0</td>\n",
       "      <td>2988.0</td>\n",
       "      <td>6404.0</td>\n",
       "      <td>0.0</td>\n",
       "      <td>1362.0</td>\n",
       "      <td>1.0</td>\n",
       "    </tr>\n",
       "    <tr>\n",
       "      <th>3</th>\n",
       "      <td>1000063</td>\n",
       "      <td>2018-11-12</td>\n",
       "      <td>15</td>\n",
       "      <td>116.49</td>\n",
       "      <td>39.91</td>\n",
       "      <td>58.75</td>\n",
       "      <td>116.54</td>\n",
       "      <td>39.93</td>\n",
       "      <td>58.92</td>\n",
       "      <td>3</td>\n",
       "      <td>6663.0</td>\n",
       "      <td>0.0</td>\n",
       "      <td>1362.0</td>\n",
       "      <td>6404.0</td>\n",
       "      <td>0.0</td>\n",
       "      <td>1362.0</td>\n",
       "      <td>0.0</td>\n",
       "    </tr>\n",
       "    <tr>\n",
       "      <th>4</th>\n",
       "      <td>1000068</td>\n",
       "      <td>2018-11-12</td>\n",
       "      <td>12</td>\n",
       "      <td>116.53</td>\n",
       "      <td>39.77</td>\n",
       "      <td>53.62</td>\n",
       "      <td>116.52</td>\n",
       "      <td>39.81</td>\n",
       "      <td>53.54</td>\n",
       "      <td>1</td>\n",
       "      <td>9842.0</td>\n",
       "      <td>200.0</td>\n",
       "      <td>3037.0</td>\n",
       "      <td>6614.0</td>\n",
       "      <td>0.0</td>\n",
       "      <td>877.0</td>\n",
       "      <td>0.0</td>\n",
       "    </tr>\n",
       "  </tbody>\n",
       "</table>\n",
       "</div>"
      ],
      "text/plain": [
       "       sid        date  hour  x_origin_0  y_origin_0  termicSensation_origin  \\\n",
       "0  1000014  2018-11-12    17      116.35       39.98                   49.65   \n",
       "1  1000014  2018-11-12    17      116.35       39.98                   49.65   \n",
       "2  1000063  2018-11-12    15      116.49       39.91                   58.75   \n",
       "3  1000063  2018-11-12    15      116.49       39.91                   58.75   \n",
       "4  1000068  2018-11-12    12      116.53       39.77                   53.62   \n",
       "\n",
       "   x_destination_0  y_destination_0  termicSensation_destination  \\\n",
       "0           116.39            39.99                        49.65   \n",
       "1           116.39            39.99                        49.65   \n",
       "2           116.54            39.93                        58.92   \n",
       "3           116.54            39.93                        58.92   \n",
       "4           116.52            39.81                        53.54   \n",
       "\n",
       "   transport_mode  distance  price     eta  min_distance  min_price  min_eta  \\\n",
       "0               2    5736.0  300.0  1875.0        5736.0        0.0   1454.0   \n",
       "1               6    6158.0    0.0  1857.0        5736.0        0.0   1454.0   \n",
       "2               1    6644.0  200.0  2988.0        6404.0        0.0   1362.0   \n",
       "3               3    6663.0    0.0  1362.0        6404.0        0.0   1362.0   \n",
       "4               1    9842.0  200.0  3037.0        6614.0        0.0    877.0   \n",
       "\n",
       "   binaryTarget  \n",
       "0           1.0  \n",
       "1           0.0  \n",
       "2           1.0  \n",
       "3           0.0  \n",
       "4           0.0  "
      ]
     },
     "execution_count": 4,
     "metadata": {},
     "output_type": "execute_result"
    }
   ],
   "source": [
    "data.head()"
   ]
  },
  {
   "cell_type": "markdown",
   "metadata": {},
   "source": [
    "Creacion de nuevas variables"
   ]
  },
  {
   "cell_type": "code",
   "execution_count": 5,
   "metadata": {},
   "outputs": [],
   "source": [
    "data['date'] = pd.to_datetime(data['date'], format=\"%Y-%m-%d\")\n",
    "data['weekday'] = data['date'].dt.date.apply(lambda x: x.weekday())\n",
    "data['weekend'] = np.where(data['weekday']>=5, 1, 0)\n",
    "# wT = 2pi -> w = 0.8975979010256552 para hacerla circular\n",
    "data['weekday'] = data['weekday'].apply(lambda x: sin(x*0.8975979010256552))\n",
    "#data['month'] = data['date'].dt.date.apply(lambda x: x.month)\n",
    "del data['date']\n",
    "del data['sid']"
   ]
  },
  {
   "cell_type": "code",
   "execution_count": 6,
   "metadata": {},
   "outputs": [],
   "source": [
    "#Put bT at the end\n",
    "cols = data.columns.tolist()\n",
    "cols.append(cols.pop(cols.index('weekend')))\n",
    "cols.append(cols.pop(cols.index('transport_mode')))\n",
    "cols.append(cols.pop(cols.index('binaryTarget')))\n",
    "data = data[cols]"
   ]
  },
  {
   "cell_type": "code",
   "execution_count": 7,
   "metadata": {},
   "outputs": [
    {
     "data": {
      "text/plain": [
       "hour                             int32\n",
       "x_origin_0                     float64\n",
       "y_origin_0                     float64\n",
       "termicSensation_origin         float64\n",
       "x_destination_0                float64\n",
       "y_destination_0                float64\n",
       "termicSensation_destination    float64\n",
       "distance                       float64\n",
       "price                          float64\n",
       "eta                            float64\n",
       "min_distance                   float64\n",
       "min_price                      float64\n",
       "min_eta                        float64\n",
       "weekday                        float64\n",
       "weekend                          int64\n",
       "transport_mode                   int32\n",
       "binaryTarget                   float64\n",
       "dtype: object"
      ]
     },
     "execution_count": 7,
     "metadata": {},
     "output_type": "execute_result"
    }
   ],
   "source": [
    "data.dtypes"
   ]
  },
  {
   "cell_type": "markdown",
   "metadata": {},
   "source": [
    "Estandarizado"
   ]
  },
  {
   "cell_type": "code",
   "execution_count": 8,
   "metadata": {},
   "outputs": [],
   "source": [
    "datas = data[data.columns[:-1]]\n",
    "datas = (datas-datas.mean())/datas.mad()\n",
    "datas['weekend'] = data['weekend']\n",
    "datas['transport_mode'] = data['transport_mode']\n",
    "datas['BT'] = data['binaryTarget']"
   ]
  },
  {
   "cell_type": "code",
   "execution_count": 9,
   "metadata": {},
   "outputs": [
    {
     "data": {
      "text/html": [
       "<div>\n",
       "<style scoped>\n",
       "    .dataframe tbody tr th:only-of-type {\n",
       "        vertical-align: middle;\n",
       "    }\n",
       "\n",
       "    .dataframe tbody tr th {\n",
       "        vertical-align: top;\n",
       "    }\n",
       "\n",
       "    .dataframe thead th {\n",
       "        text-align: right;\n",
       "    }\n",
       "</style>\n",
       "<table border=\"1\" class=\"dataframe\">\n",
       "  <thead>\n",
       "    <tr style=\"text-align: right;\">\n",
       "      <th></th>\n",
       "      <th>hour</th>\n",
       "      <th>x_origin_0</th>\n",
       "      <th>y_origin_0</th>\n",
       "      <th>termicSensation_origin</th>\n",
       "      <th>x_destination_0</th>\n",
       "      <th>y_destination_0</th>\n",
       "      <th>termicSensation_destination</th>\n",
       "      <th>distance</th>\n",
       "      <th>price</th>\n",
       "      <th>eta</th>\n",
       "      <th>min_distance</th>\n",
       "      <th>min_price</th>\n",
       "      <th>min_eta</th>\n",
       "      <th>weekday</th>\n",
       "      <th>weekend</th>\n",
       "      <th>transport_mode</th>\n",
       "      <th>BT</th>\n",
       "    </tr>\n",
       "  </thead>\n",
       "  <tbody>\n",
       "    <tr>\n",
       "      <th>0</th>\n",
       "      <td>0.871882</td>\n",
       "      <td>-0.467821</td>\n",
       "      <td>0.605781</td>\n",
       "      <td>-0.194141</td>\n",
       "      <td>0.057357</td>\n",
       "      <td>0.686389</td>\n",
       "      <td>-0.192920</td>\n",
       "      <td>-0.916364</td>\n",
       "      <td>-0.648879</td>\n",
       "      <td>-0.682554</td>\n",
       "      <td>-0.833852</td>\n",
       "      <td>-0.503419</td>\n",
       "      <td>-0.414719</td>\n",
       "      <td>0.068817</td>\n",
       "      <td>0</td>\n",
       "      <td>2</td>\n",
       "      <td>1.0</td>\n",
       "    </tr>\n",
       "    <tr>\n",
       "      <th>1</th>\n",
       "      <td>0.871882</td>\n",
       "      <td>-0.467821</td>\n",
       "      <td>0.605781</td>\n",
       "      <td>-0.194141</td>\n",
       "      <td>0.057357</td>\n",
       "      <td>0.686389</td>\n",
       "      <td>-0.192920</td>\n",
       "      <td>-0.878910</td>\n",
       "      <td>-0.823765</td>\n",
       "      <td>-0.694931</td>\n",
       "      <td>-0.833852</td>\n",
       "      <td>-0.503419</td>\n",
       "      <td>-0.414719</td>\n",
       "      <td>0.068817</td>\n",
       "      <td>0</td>\n",
       "      <td>6</td>\n",
       "      <td>0.0</td>\n",
       "    </tr>\n",
       "    <tr>\n",
       "      <th>2</th>\n",
       "      <td>0.351031</td>\n",
       "      <td>1.283962</td>\n",
       "      <td>-0.427693</td>\n",
       "      <td>0.652541</td>\n",
       "      <td>1.883749</td>\n",
       "      <td>-0.176400</td>\n",
       "      <td>0.669249</td>\n",
       "      <td>-0.835776</td>\n",
       "      <td>-0.707174</td>\n",
       "      <td>0.082711</td>\n",
       "      <td>-0.770992</td>\n",
       "      <td>-0.503419</td>\n",
       "      <td>-0.505600</td>\n",
       "      <td>0.068817</td>\n",
       "      <td>0</td>\n",
       "      <td>1</td>\n",
       "      <td>1.0</td>\n",
       "    </tr>\n",
       "    <tr>\n",
       "      <th>3</th>\n",
       "      <td>0.351031</td>\n",
       "      <td>1.283962</td>\n",
       "      <td>-0.427693</td>\n",
       "      <td>0.652541</td>\n",
       "      <td>1.883749</td>\n",
       "      <td>-0.176400</td>\n",
       "      <td>0.669249</td>\n",
       "      <td>-0.834090</td>\n",
       "      <td>-0.823765</td>\n",
       "      <td>-1.035278</td>\n",
       "      <td>-0.770992</td>\n",
       "      <td>-0.503419</td>\n",
       "      <td>-0.505600</td>\n",
       "      <td>0.068817</td>\n",
       "      <td>0</td>\n",
       "      <td>3</td>\n",
       "      <td>0.0</td>\n",
       "    </tr>\n",
       "    <tr>\n",
       "      <th>4</th>\n",
       "      <td>-0.430245</td>\n",
       "      <td>1.784472</td>\n",
       "      <td>-2.494640</td>\n",
       "      <td>0.175236</td>\n",
       "      <td>1.640230</td>\n",
       "      <td>-1.901978</td>\n",
       "      <td>0.168875</td>\n",
       "      <td>-0.551944</td>\n",
       "      <td>-0.707174</td>\n",
       "      <td>0.116402</td>\n",
       "      <td>-0.751230</td>\n",
       "      <td>-0.503419</td>\n",
       "      <td>-0.984701</td>\n",
       "      <td>0.068817</td>\n",
       "      <td>0</td>\n",
       "      <td>1</td>\n",
       "      <td>0.0</td>\n",
       "    </tr>\n",
       "  </tbody>\n",
       "</table>\n",
       "</div>"
      ],
      "text/plain": [
       "       hour  x_origin_0  y_origin_0  termicSensation_origin  x_destination_0  \\\n",
       "0  0.871882   -0.467821    0.605781               -0.194141         0.057357   \n",
       "1  0.871882   -0.467821    0.605781               -0.194141         0.057357   \n",
       "2  0.351031    1.283962   -0.427693                0.652541         1.883749   \n",
       "3  0.351031    1.283962   -0.427693                0.652541         1.883749   \n",
       "4 -0.430245    1.784472   -2.494640                0.175236         1.640230   \n",
       "\n",
       "   y_destination_0  termicSensation_destination  distance     price       eta  \\\n",
       "0         0.686389                    -0.192920 -0.916364 -0.648879 -0.682554   \n",
       "1         0.686389                    -0.192920 -0.878910 -0.823765 -0.694931   \n",
       "2        -0.176400                     0.669249 -0.835776 -0.707174  0.082711   \n",
       "3        -0.176400                     0.669249 -0.834090 -0.823765 -1.035278   \n",
       "4        -1.901978                     0.168875 -0.551944 -0.707174  0.116402   \n",
       "\n",
       "   min_distance  min_price   min_eta   weekday  weekend  transport_mode   BT  \n",
       "0     -0.833852  -0.503419 -0.414719  0.068817        0               2  1.0  \n",
       "1     -0.833852  -0.503419 -0.414719  0.068817        0               6  0.0  \n",
       "2     -0.770992  -0.503419 -0.505600  0.068817        0               1  1.0  \n",
       "3     -0.770992  -0.503419 -0.505600  0.068817        0               3  0.0  \n",
       "4     -0.751230  -0.503419 -0.984701  0.068817        0               1  0.0  "
      ]
     },
     "execution_count": 9,
     "metadata": {},
     "output_type": "execute_result"
    }
   ],
   "source": [
    "datas.head()"
   ]
  },
  {
   "cell_type": "markdown",
   "metadata": {},
   "source": [
    "Dividir la muestra en entrenamiento y validación"
   ]
  },
  {
   "cell_type": "markdown",
   "metadata": {},
   "source": [
    "train 60% validation 20% test 20%"
   ]
  },
  {
   "cell_type": "code",
   "execution_count": 10,
   "metadata": {},
   "outputs": [],
   "source": [
    "prop = 0.3/0.5\n",
    "temp, test = train_test_split(datas, test_size=0.5)\n",
    "train, val = train_test_split(temp, test_size=prop)\n",
    "del temp"
   ]
  },
  {
   "cell_type": "code",
   "execution_count": 11,
   "metadata": {},
   "outputs": [],
   "source": [
    "x_train = train[train.columns[:-1]].values\n",
    "y_train = to_categorical(train[\"BT\"])\n",
    "x_test = test[test.columns[:-1]].values\n",
    "y_test = to_categorical(test[\"BT\"])\n",
    "validation = (val[val.columns[:-1]].values, to_categorical(val[\"BT\"]))"
   ]
  },
  {
   "cell_type": "markdown",
   "metadata": {},
   "source": [
    "## Red Neuronal"
   ]
  },
  {
   "cell_type": "code",
   "execution_count": 12,
   "metadata": {},
   "outputs": [],
   "source": [
    "RN = Sequential()\n",
    "RN.add(Dense(units=20, activation='sigmoid', input_dim=16))\n",
    "RN.add(Dense(units=15, activation='sigmoid'))\n",
    "#RN.add(Dense(units=10, activation='sigmoid'))\n",
    "#RN.add(Dense(units=15, activation='sigmoid'))\n",
    "RN.add(Dense(units=2, activation='softmax'))"
   ]
  },
  {
   "cell_type": "code",
   "execution_count": 13,
   "metadata": {},
   "outputs": [
    {
     "name": "stdout",
     "output_type": "stream",
     "text": [
      "Model: \"sequential_1\"\n",
      "_________________________________________________________________\n",
      "Layer (type)                 Output Shape              Param #   \n",
      "=================================================================\n",
      "dense_1 (Dense)              (None, 20)                340       \n",
      "_________________________________________________________________\n",
      "dense_2 (Dense)              (None, 15)                315       \n",
      "_________________________________________________________________\n",
      "dense_3 (Dense)              (None, 2)                 32        \n",
      "=================================================================\n",
      "Total params: 687\n",
      "Trainable params: 687\n",
      "Non-trainable params: 0\n",
      "_________________________________________________________________\n"
     ]
    }
   ],
   "source": [
    "RN.summary()"
   ]
  },
  {
   "cell_type": "code",
   "execution_count": 14,
   "metadata": {},
   "outputs": [],
   "source": [
    "sgd = optimizers.SGD(lr=0.03, clipvalue=0.5, momentum=0.2)"
   ]
  },
  {
   "cell_type": "code",
   "execution_count": 15,
   "metadata": {},
   "outputs": [],
   "source": [
    "RN.compile(loss='categorical_crossentropy', optimizer=sgd, metrics=['accuracy'])"
   ]
  },
  {
   "cell_type": "code",
   "execution_count": 16,
   "metadata": {},
   "outputs": [
    {
     "name": "stdout",
     "output_type": "stream",
     "text": [
      "Train on 69644 samples, validate on 104466 samples\n",
      "Epoch 1/10\n",
      "69644/69644 [==============================] - 1s 19us/step - loss: 0.5216 - accuracy: 0.7863 - val_loss: 0.5186 - val_accuracy: 0.7865\n",
      "Epoch 2/10\n",
      "69644/69644 [==============================] - 1s 12us/step - loss: 0.5175 - accuracy: 0.7863 - val_loss: 0.5159 - val_accuracy: 0.7865\n",
      "Epoch 3/10\n",
      "69644/69644 [==============================] - 1s 12us/step - loss: 0.5149 - accuracy: 0.7863 - val_loss: 0.5131 - val_accuracy: 0.7865\n",
      "Epoch 4/10\n",
      "69644/69644 [==============================] - 1s 12us/step - loss: 0.5122 - accuracy: 0.7863 - val_loss: 0.5102 - val_accuracy: 0.7865\n",
      "Epoch 5/10\n",
      "69644/69644 [==============================] - 1s 14us/step - loss: 0.5094 - accuracy: 0.7863 - val_loss: 0.5084 - val_accuracy: 0.7865\n",
      "Epoch 6/10\n",
      "69644/69644 [==============================] - 1s 11us/step - loss: 0.5067 - accuracy: 0.7863 - val_loss: 0.5049 - val_accuracy: 0.7865\n",
      "Epoch 7/10\n",
      "69644/69644 [==============================] - 1s 13us/step - loss: 0.5039 - accuracy: 0.7863 - val_loss: 0.5022 - val_accuracy: 0.7865\n",
      "Epoch 8/10\n",
      "69644/69644 [==============================] - 1s 11us/step - loss: 0.5014 - accuracy: 0.7863 - val_loss: 0.4996 - val_accuracy: 0.7865\n",
      "Epoch 9/10\n",
      "69644/69644 [==============================] - 1s 12us/step - loss: 0.4990 - accuracy: 0.7863 - val_loss: 0.4974 - val_accuracy: 0.7865\n",
      "Epoch 10/10\n",
      "69644/69644 [==============================] - 1s 11us/step - loss: 0.4968 - accuracy: 0.7863 - val_loss: 0.4954 - val_accuracy: 0.7865\n"
     ]
    }
   ],
   "source": [
    "history = RN.fit(x_train, y_train, epochs=10, batch_size=200, validation_data=validation, verbose=1)"
   ]
  },
  {
   "cell_type": "code",
   "execution_count": 17,
   "metadata": {},
   "outputs": [
    {
     "name": "stdout",
     "output_type": "stream",
     "text": [
      "174111/174111 [==============================] - 7s 39us/step\n"
     ]
    },
    {
     "data": {
      "text/plain": [
       "[0.4940368239183336, 0.7877963185310364]"
      ]
     },
     "execution_count": 17,
     "metadata": {},
     "output_type": "execute_result"
    }
   ],
   "source": [
    "RN.evaluate(x_test, y_test, batch_size=15)"
   ]
  },
  {
   "cell_type": "code",
   "execution_count": 18,
   "metadata": {},
   "outputs": [
    {
     "data": {
      "image/png": "[encoded data removed]",
      "text/plain": [
       "<Figure size 864x360 with 1 Axes>"
      ]
     },
     "metadata": {
      "needs_background": "light"
     },
     "output_type": "display_data"
    }
   ],
   "source": [
    "# Plot training & validation accuracy values\n",
    "plt.figure(figsize=(12,5))\n",
    "plt.plot(history.history['accuracy'])\n",
    "plt.plot(history.history['val_accuracy'])\n",
    "plt.title('Model accuracy')\n",
    "plt.ylabel('Accuracy')\n",
    "plt.xlabel('Epoch')\n",
    "plt.legend(['Train', 'Validiation'], loc='upper left')\n",
    "plt.show()"
   ]
  },
  {
   "cell_type": "code",
   "execution_count": 19,
   "metadata": {},
   "outputs": [
    {
     "data": {
      "image/png": "[encoded data removed]",
      "text/plain": [
       "<Figure size 864x360 with 1 Axes>"
      ]
     },
     "metadata": {
      "needs_background": "light"
     },
     "output_type": "display_data"
    }
   ],
   "source": [
    "# Plot training & validation loss values\n",
    "plt.figure(figsize=(12,5))\n",
    "plt.plot(history.history['loss'])\n",
    "plt.plot(history.history['val_loss'])\n",
    "plt.title('Model loss')\n",
    "plt.ylabel('Loss')\n",
    "plt.xlabel('Epoch')\n",
    "plt.legend(['Train', 'Validation'], loc='upper left')\n",
    "plt.show()"
   ]
  },
  {
   "cell_type": "markdown",
   "metadata": {},
   "source": [
    "Save Model"
   ]
  },
  {
   "cell_type": "code",
   "execution_count": 20,
   "metadata": {},
   "outputs": [],
   "source": [
    "#model_json = RN.to_json()\n",
    "#with open(\"RN.json\", \"w\") as json_file:\n",
    "#    json_file.write(model_json)\n",
    "#RN.save_weights(\"model.h5\")"
   ]
  },
  {
   "cell_type": "code",
   "execution_count": 21,
   "metadata": {},
   "outputs": [],
   "source": [
    "# load json and create model\n",
    "#json_file = open('model.json', 'r')\n",
    "#loaded_model_json = json_file.read()\n",
    "#json_file.close()\n",
    "#loaded_model = model_from_json(loaded_model_json)\n",
    "# load weights into new model\n",
    "#loaded_model.load_weights(\"model.h5\")"
   ]
  },
  {
   "cell_type": "code",
   "execution_count": 22,
   "metadata": {},
   "outputs": [],
   "source": [
    "predict = np.round(RN.predict(x_test))\n",
    "tempw = [predict[:,0] != y_test[:,0]]\n",
    "wrongs = test[tempw[0]]\n",
    "wrongs = data.filter(wrongs.index, axis=\"index\")\n",
    "del tempw, predict"
   ]
  },
  {
   "cell_type": "code",
   "execution_count": 23,
   "metadata": {},
   "outputs": [
    {
     "data": {
      "text/plain": [
       "array([[<matplotlib.axes._subplots.AxesSubplot object at 0x7f4e2c33e210>]],\n",
       "      dtype=object)"
      ]
     },
     "execution_count": 23,
     "metadata": {},
     "output_type": "execute_result"
    },
    {
     "data": {
      "image/png": "[encoded data removed]",
      "text/plain": [
       "<Figure size 432x288 with 1 Axes>"
      ]
     },
     "metadata": {
      "needs_background": "light"
     },
     "output_type": "display_data"
    }
   ],
   "source": [
    "wrongs.hist(column=\"price\")"
   ]
  },
  {
   "cell_type": "code",
   "execution_count": 24,
   "metadata": {},
   "outputs": [
    {
     "data": {
      "text/plain": [
       "array([  800.,   500.,   200.,   400.,   300.,     0.,   700.,   600.,\n",
       "        1800.,   900.,  2300.,  1400.,  1700.,  1000.,  1100.,  3100.,\n",
       "        2000.,  3000.,  6400.,  1200.,  3200.,  1600.,  2100.,  5800.,\n",
       "        1500.,  3400.,  1300.,  1900.,  2500.,  2200.,  2700.,  8000.,\n",
       "        3900.,  5300.,  2800., 22100.,  3800.,  2600.,  2400.,  2900.,\n",
       "        3600.,  6100.,  4100.,  5100.,  8200.,  3500.,  6200.,  3300.,\n",
       "        6900.,  5500.,  5600.,  4800.,  9900.,  4900.,  6500.,  4200.,\n",
       "        4500., 11800.,  5700.,  4400.,  9500.,  8700.,  6000., 10600.,\n",
       "        7000.,  7100.,  5000.,  4000.,  7800.,  4300.,  6600., 14600.,\n",
       "        9600.,  6300.,  3700., 16200.,  7300., 12600.,  8300., 16000.,\n",
       "        7400.,  9800., 14700.,  4700.,  4600., 36600., 15600., 23300.,\n",
       "       14100., 11900., 17300.,  7900., 14800., 13200., 16900.,  6800.,\n",
       "       11200., 40600., 15300., 10800.,  6700.,  5200., 21900.,  5900.,\n",
       "        8400.,  8500., 16600., 11400., 13500., 14200., 13100., 13700.,\n",
       "       10100., 10200.,  7500.,  9000., 11500.,  5400., 17100.,  8100.,\n",
       "       11700.,  9300.,  7600., 15200.,  7700., 10700., 12900., 19200.,\n",
       "       10000., 20400.,  8800.,  9200., 12000., 10400., 10500., 20200.,\n",
       "       16500., 18900., 10900., 22400., 18000.,  9400., 16700.,  7200.,\n",
       "        9700., 14000.,  8900., 24300., 13000., 20300., 12300., 12700.,\n",
       "       21400., 21800., 12200., 14500., 13600., 16100., 10300., 20800.,\n",
       "       19400., 16400.,  8600., 21700., 11000., 14300., 15100., 18700.])"
      ]
     },
     "execution_count": 24,
     "metadata": {},
     "output_type": "execute_result"
    }
   ],
   "source": [
    "wrongs['price'].unique()"
   ]
  },
  {
   "cell_type": "code",
   "execution_count": null,
   "metadata": {},
   "outputs": [],
   "source": []
  }
 ],
 "metadata": {
  "kernelspec": {
   "display_name": "Python 3",
   "language": "python",
   "name": "python3"
  },
  "language_info": {
   "codemirror_mode": {
    "name": "ipython",
    "version": 3
   },
   "file_extension": ".py",
   "mimetype": "text/x-python",
   "name": "python",
   "nbconvert_exporter": "python",
   "pygments_lexer": "ipython3",
   "version": "3.7.6"
  }
 },
 "nbformat": 4,
 "nbformat_minor": 4
}
