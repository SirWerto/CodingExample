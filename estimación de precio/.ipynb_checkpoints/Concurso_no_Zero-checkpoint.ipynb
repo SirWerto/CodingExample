{
 "cells": [
  {
   "cell_type": "code",
   "execution_count": 1,
   "metadata": {},
   "outputs": [
    {
     "name": "stderr",
     "output_type": "stream",
     "text": [
      "Using TensorFlow backend.\n"
     ]
    }
   ],
   "source": [
    "# Imports\n",
    "import pandas as pd\n",
    "import numpy as np\n",
    "from sklearn.model_selection import train_test_split\n",
    "from keras.models import Sequential\n",
    "from keras.layers import Dense\n",
    "from keras.utils import to_categorical\n",
    "from keras import optimizers\n",
    "from keras.utils import plot_model\n",
    "import time\n",
    "from datetime import datetime\n",
    "from math import pi,sin\n",
    "import matplotlib.pyplot as plt\n",
    "from matplotlib.pyplot import figure"
   ]
  },
  {
   "cell_type": "code",
   "execution_count": 2,
   "metadata": {},
   "outputs": [],
   "source": [
    "data = pd.read_csv(\"train.csv\")\n",
    "data = data.astype({'hour' : 'int32', 'transport_mode' : 'int32', 'price' : 'int32', 'eta' : 'int32'})"
   ]
  },
  {
   "cell_type": "code",
   "execution_count": null,
   "metadata": {},
   "outputs": [],
   "source": [
    "data['date'] = pd.to_datetime(data['date'], format=\"%Y-%m-%d\")\n",
    "data['weekday'] = data['date'].dt.date.apply(lambda x: x.weekday())\n",
    "data['weekend'] = np.where(data['weekday']>=5, 1, 0)\n",
    "# wT = 2pi -> w = 0.8975979010256552 para hacerla circular\n",
    "data['weekday'] = data['weekday'].apply(lambda x: sin(x*0.8975979010256552))\n",
    "#data['month'] = data['date'].dt.date.apply(lambda x: x.month)\n",
    "del data['date']\n",
    "del data['sid']"
   ]
  }
 ],
 "metadata": {
  "kernelspec": {
   "display_name": "Python 3",
   "language": "python",
   "name": "python3"
  },
  "language_info": {
   "codemirror_mode": {
    "name": "ipython",
    "version": 3
   },
   "file_extension": ".py",
   "mimetype": "text/x-python",
   "name": "python",
   "nbconvert_exporter": "python",
   "pygments_lexer": "ipython3",
   "version": "3.7.6"
  }
 },
 "nbformat": 4,
 "nbformat_minor": 2
}
