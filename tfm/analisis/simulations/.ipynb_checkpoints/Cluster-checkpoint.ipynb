{
 "cells": [
  {
   "cell_type": "code",
   "execution_count": 20,
   "metadata": {},
   "outputs": [],
   "source": [
    "import pandas as pd\n",
    "from pyspark import SparkContext\n",
    "from ast import literal_eval\n",
    "import math\n",
    "import numpy as np\n",
    "from sklearn.cluster import KMeans\n",
    "from matplotlib import pyplot as plt\n",
    "from sklearn.metrics import silhouette_samples, silhouette_score\n",
    "from sklearn.decomposition import PCA\n",
    "from my_aux import rep"
   ]
  },
  {
   "cell_type": "markdown",
   "metadata": {},
   "source": [
    "## Imports"
   ]
  },
  {
   "cell_type": "code",
   "execution_count": 2,
   "metadata": {},
   "outputs": [
    {
     "name": "stdout",
     "output_type": "stream",
     "text": [
      "CPU times: user 772 ms, sys: 269 ms, total: 1.04 s\n",
      "Wall time: 18.6 s\n"
     ]
    }
   ],
   "source": [
    "%%time\n",
    "sc = SparkContext()\n",
    "items_raw = sc.textFile(\"static/underexpose_item_feat.csv\") \\\n",
    "    .map(lambda line: literal_eval(\"[\" + line + \"]\")) \\\n",
    "    .map(lambda ll: [ll[0], tuple(ll[1]), tuple(ll[2])]) \\\n",
    "    .collect()\n",
    "sc.stop()\n",
    "del sc"
   ]
  },
  {
   "cell_type": "code",
   "execution_count": 3,
   "metadata": {},
   "outputs": [
    {
     "data": {
      "text/html": [
       "<div>\n",
       "<style scoped>\n",
       "    .dataframe tbody tr th:only-of-type {\n",
       "        vertical-align: middle;\n",
       "    }\n",
       "\n",
       "    .dataframe tbody tr th {\n",
       "        vertical-align: top;\n",
       "    }\n",
       "\n",
       "    .dataframe thead th {\n",
       "        text-align: right;\n",
       "    }\n",
       "</style>\n",
       "<table border=\"1\" class=\"dataframe\">\n",
       "  <thead>\n",
       "    <tr style=\"text-align: right;\">\n",
       "      <th></th>\n",
       "      <th>item_id</th>\n",
       "      <th>txt_vec</th>\n",
       "      <th>img_vec</th>\n",
       "    </tr>\n",
       "  </thead>\n",
       "  <tbody>\n",
       "    <tr>\n",
       "      <th>0</th>\n",
       "      <td>42844</td>\n",
       "      <td>(4.514945030212402, -2.3837196826934814, 0.500...</td>\n",
       "      <td>(-2.8722801208496094, 1.4587551355361938, 2.57...</td>\n",
       "    </tr>\n",
       "    <tr>\n",
       "      <th>1</th>\n",
       "      <td>67898</td>\n",
       "      <td>(-2.0029051303863525, -0.9298805594444275, 0.7...</td>\n",
       "      <td>(-0.07052088528871536, -1.4393335580825806, 0....</td>\n",
       "    </tr>\n",
       "  </tbody>\n",
       "</table>\n",
       "</div>"
      ],
      "text/plain": [
       "   item_id                                            txt_vec  \\\n",
       "0    42844  (4.514945030212402, -2.3837196826934814, 0.500...   \n",
       "1    67898  (-2.0029051303863525, -0.9298805594444275, 0.7...   \n",
       "\n",
       "                                             img_vec  \n",
       "0  (-2.8722801208496094, 1.4587551355361938, 2.57...  \n",
       "1  (-0.07052088528871536, -1.4393335580825806, 0....  "
      ]
     },
     "execution_count": 3,
     "metadata": {},
     "output_type": "execute_result"
    }
   ],
   "source": [
    "items = pd.DataFrame.from_records(items_raw, columns=[\"item_id\", \"txt_vec\", \"img_vec\"])\n",
    "del items_raw\n",
    "items.head(2)"
   ]
  },
  {
   "cell_type": "code",
   "execution_count": 4,
   "metadata": {},
   "outputs": [
    {
     "data": {
      "text/html": [
       "<div>\n",
       "<style scoped>\n",
       "    .dataframe tbody tr th:only-of-type {\n",
       "        vertical-align: middle;\n",
       "    }\n",
       "\n",
       "    .dataframe tbody tr th {\n",
       "        vertical-align: top;\n",
       "    }\n",
       "\n",
       "    .dataframe thead th {\n",
       "        text-align: right;\n",
       "    }\n",
       "</style>\n",
       "<table border=\"1\" class=\"dataframe\">\n",
       "  <thead>\n",
       "    <tr style=\"text-align: right;\">\n",
       "      <th></th>\n",
       "      <th>item_id</th>\n",
       "    </tr>\n",
       "  </thead>\n",
       "  <tbody>\n",
       "    <tr>\n",
       "      <th>0</th>\n",
       "      <td>42844</td>\n",
       "    </tr>\n",
       "    <tr>\n",
       "      <th>1</th>\n",
       "      <td>67898</td>\n",
       "    </tr>\n",
       "  </tbody>\n",
       "</table>\n",
       "</div>"
      ],
      "text/plain": [
       "   item_id\n",
       "0    42844\n",
       "1    67898"
      ]
     },
     "execution_count": 4,
     "metadata": {},
     "output_type": "execute_result"
    }
   ],
   "source": [
    "clusters = items[[\"item_id\"]]\n",
    "clusters.head(2)"
   ]
  },
  {
   "cell_type": "markdown",
   "metadata": {},
   "source": [
    "## Clustering"
   ]
  },
  {
   "cell_type": "code",
   "execution_count": 5,
   "metadata": {},
   "outputs": [
    {
     "data": {
      "text/plain": [
       "(108916, 128)"
      ]
     },
     "execution_count": 5,
     "metadata": {},
     "output_type": "execute_result"
    }
   ],
   "source": [
    "txt_vect = np.array([list(x) for x in items[\"txt_vec\"].values.tolist()])\n",
    "txt_vect.shape"
   ]
  },
  {
   "cell_type": "code",
   "execution_count": 6,
   "metadata": {},
   "outputs": [
    {
     "data": {
      "text/plain": [
       "(108916, 128)"
      ]
     },
     "execution_count": 6,
     "metadata": {},
     "output_type": "execute_result"
    }
   ],
   "source": [
    "img_vect = np.array([list(x) for x in items[\"img_vec\"].values.tolist()])\n",
    "img_vect.shape"
   ]
  },
  {
   "cell_type": "markdown",
   "metadata": {},
   "source": [
    "### TXT"
   ]
  },
  {
   "cell_type": "markdown",
   "metadata": {},
   "source": [
    "#### PCA"
   ]
  },
  {
   "cell_type": "code",
   "execution_count": 7,
   "metadata": {},
   "outputs": [],
   "source": [
    "txt_pca = PCA(n_components=50, svd_solver=\"full\")"
   ]
  },
  {
   "cell_type": "code",
   "execution_count": 8,
   "metadata": {},
   "outputs": [
    {
     "name": "stdout",
     "output_type": "stream",
     "text": [
      "CPU times: user 3.47 s, sys: 103 ms, total: 3.58 s\n",
      "Wall time: 696 ms\n"
     ]
    },
    {
     "data": {
      "text/plain": [
       "PCA(copy=True, iterated_power='auto', n_components=50, random_state=None,\n",
       "    svd_solver='full', tol=0.0, whiten=False)"
      ]
     },
     "execution_count": 8,
     "metadata": {},
     "output_type": "execute_result"
    }
   ],
   "source": [
    "%%time\n",
    "txt_pca.fit(txt_vect)"
   ]
  },
  {
   "cell_type": "code",
   "execution_count": 9,
   "metadata": {},
   "outputs": [
    {
     "data": {
      "text/html": [
       "<div>\n",
       "<style scoped>\n",
       "    .dataframe tbody tr th:only-of-type {\n",
       "        vertical-align: middle;\n",
       "    }\n",
       "\n",
       "    .dataframe tbody tr th {\n",
       "        vertical-align: top;\n",
       "    }\n",
       "\n",
       "    .dataframe thead th {\n",
       "        text-align: right;\n",
       "    }\n",
       "</style>\n",
       "<table border=\"1\" class=\"dataframe\">\n",
       "  <thead>\n",
       "    <tr style=\"text-align: right;\">\n",
       "      <th></th>\n",
       "      <th>var_ratio</th>\n",
       "      <th>var</th>\n",
       "      <th>cum</th>\n",
       "    </tr>\n",
       "  </thead>\n",
       "  <tbody>\n",
       "    <tr>\n",
       "      <th>0</th>\n",
       "      <td>0.152307</td>\n",
       "      <td>66.789173</td>\n",
       "      <td>0.152307</td>\n",
       "    </tr>\n",
       "    <tr>\n",
       "      <th>1</th>\n",
       "      <td>0.094193</td>\n",
       "      <td>41.305125</td>\n",
       "      <td>0.246500</td>\n",
       "    </tr>\n",
       "    <tr>\n",
       "      <th>2</th>\n",
       "      <td>0.065720</td>\n",
       "      <td>28.819457</td>\n",
       "      <td>0.312221</td>\n",
       "    </tr>\n",
       "  </tbody>\n",
       "</table>\n",
       "</div>"
      ],
      "text/plain": [
       "   var_ratio        var       cum\n",
       "0   0.152307  66.789173  0.152307\n",
       "1   0.094193  41.305125  0.246500\n",
       "2   0.065720  28.819457  0.312221"
      ]
     },
     "execution_count": 9,
     "metadata": {},
     "output_type": "execute_result"
    }
   ],
   "source": [
    "df_pca = pd.DataFrame(txt_pca.explained_variance_ratio_, columns=[\"var_ratio\"])\n",
    "df_pca[\"var\"] = txt_pca.explained_variance_\n",
    "df_pca[\"cum\"] = df_pca[\"var_ratio\"].cumsum()\n",
    "df_pca[\"diff\"] = df_pca[\"var_ratio\"].diff()\n",
    "df_pca.head(3)"
   ]
  },
  {
   "cell_type": "code",
   "execution_count": 10,
   "metadata": {},
   "outputs": [
    {
     "data": {
      "text/plain": [
       "<matplotlib.axes._subplots.AxesSubplot at 0x7f0c71534710>"
      ]
     },
     "execution_count": 10,
     "metadata": {},
     "output_type": "execute_result"
    },
    {
     "data": {
      "image/png": "[encoded data removed]",
      "text/plain": [
       "<Figure size 432x288 with 1 Axes>"
      ]
     },
     "metadata": {
      "needs_background": "light"
     },
     "output_type": "display_data"
    }
   ],
   "source": [
    "df_pca[\"cum\"].plot()"
   ]
  },
  {
   "cell_type": "code",
   "execution_count": 11,
   "metadata": {},
   "outputs": [
    {
     "data": {
      "text/html": [
       "<div>\n",
       "<style scoped>\n",
       "    .dataframe tbody tr th:only-of-type {\n",
       "        vertical-align: middle;\n",
       "    }\n",
       "\n",
       "    .dataframe tbody tr th {\n",
       "        vertical-align: top;\n",
       "    }\n",
       "\n",
       "    .dataframe thead th {\n",
       "        text-align: right;\n",
       "    }\n",
       "</style>\n",
       "<table border=\"1\" class=\"dataframe\">\n",
       "  <thead>\n",
       "    <tr style=\"text-align: right;\">\n",
       "      <th></th>\n",
       "      <th>var_ratio</th>\n",
       "      <th>var</th>\n",
       "      <th>cum</th>\n",
       "    </tr>\n",
       "  </thead>\n",
       "  <tbody>\n",
       "    <tr>\n",
       "      <th>15</th>\n",
       "      <td>0.020781</td>\n",
       "      <td>9.112731</td>\n",
       "      <td>0.760879</td>\n",
       "    </tr>\n",
       "    <tr>\n",
       "      <th>16</th>\n",
       "      <td>0.019621</td>\n",
       "      <td>8.604184</td>\n",
       "      <td>0.780500</td>\n",
       "    </tr>\n",
       "    <tr>\n",
       "      <th>17</th>\n",
       "      <td>0.018525</td>\n",
       "      <td>8.123366</td>\n",
       "      <td>0.799025</td>\n",
       "    </tr>\n",
       "    <tr>\n",
       "      <th>18</th>\n",
       "      <td>0.017916</td>\n",
       "      <td>7.856634</td>\n",
       "      <td>0.816941</td>\n",
       "    </tr>\n",
       "    <tr>\n",
       "      <th>19</th>\n",
       "      <td>0.016064</td>\n",
       "      <td>7.044285</td>\n",
       "      <td>0.833005</td>\n",
       "    </tr>\n",
       "    <tr>\n",
       "      <th>20</th>\n",
       "      <td>0.014510</td>\n",
       "      <td>6.362807</td>\n",
       "      <td>0.847515</td>\n",
       "    </tr>\n",
       "    <tr>\n",
       "      <th>21</th>\n",
       "      <td>0.013960</td>\n",
       "      <td>6.121573</td>\n",
       "      <td>0.861475</td>\n",
       "    </tr>\n",
       "    <tr>\n",
       "      <th>22</th>\n",
       "      <td>0.013037</td>\n",
       "      <td>5.716960</td>\n",
       "      <td>0.874512</td>\n",
       "    </tr>\n",
       "    <tr>\n",
       "      <th>23</th>\n",
       "      <td>0.012145</td>\n",
       "      <td>5.325748</td>\n",
       "      <td>0.886657</td>\n",
       "    </tr>\n",
       "    <tr>\n",
       "      <th>24</th>\n",
       "      <td>0.010608</td>\n",
       "      <td>4.651813</td>\n",
       "      <td>0.897265</td>\n",
       "    </tr>\n",
       "    <tr>\n",
       "      <th>25</th>\n",
       "      <td>0.010091</td>\n",
       "      <td>4.424856</td>\n",
       "      <td>0.907355</td>\n",
       "    </tr>\n",
       "    <tr>\n",
       "      <th>26</th>\n",
       "      <td>0.009321</td>\n",
       "      <td>4.087300</td>\n",
       "      <td>0.916676</td>\n",
       "    </tr>\n",
       "    <tr>\n",
       "      <th>27</th>\n",
       "      <td>0.008949</td>\n",
       "      <td>3.924140</td>\n",
       "      <td>0.925625</td>\n",
       "    </tr>\n",
       "    <tr>\n",
       "      <th>28</th>\n",
       "      <td>0.008436</td>\n",
       "      <td>3.699153</td>\n",
       "      <td>0.934060</td>\n",
       "    </tr>\n",
       "    <tr>\n",
       "      <th>29</th>\n",
       "      <td>0.007303</td>\n",
       "      <td>3.202424</td>\n",
       "      <td>0.941363</td>\n",
       "    </tr>\n",
       "    <tr>\n",
       "      <th>30</th>\n",
       "      <td>0.006299</td>\n",
       "      <td>2.762424</td>\n",
       "      <td>0.947663</td>\n",
       "    </tr>\n",
       "  </tbody>\n",
       "</table>\n",
       "</div>"
      ],
      "text/plain": [
       "    var_ratio       var       cum\n",
       "15   0.020781  9.112731  0.760879\n",
       "16   0.019621  8.604184  0.780500\n",
       "17   0.018525  8.123366  0.799025\n",
       "18   0.017916  7.856634  0.816941\n",
       "19   0.016064  7.044285  0.833005\n",
       "20   0.014510  6.362807  0.847515\n",
       "21   0.013960  6.121573  0.861475\n",
       "22   0.013037  5.716960  0.874512\n",
       "23   0.012145  5.325748  0.886657\n",
       "24   0.010608  4.651813  0.897265\n",
       "25   0.010091  4.424856  0.907355\n",
       "26   0.009321  4.087300  0.916676\n",
       "27   0.008949  3.924140  0.925625\n",
       "28   0.008436  3.699153  0.934060\n",
       "29   0.007303  3.202424  0.941363\n",
       "30   0.006299  2.762424  0.947663"
      ]
     },
     "execution_count": 11,
     "metadata": {},
     "output_type": "execute_result"
    }
   ],
   "source": [
    "df_pca[(df_pca[\"cum\"] <= 0.95) & (df_pca[\"cum\"] >= 0.75)]"
   ]
  },
  {
   "cell_type": "markdown",
   "metadata": {},
   "source": [
    "PCA transformation"
   ]
  },
  {
   "cell_type": "code",
   "execution_count": 12,
   "metadata": {},
   "outputs": [
    {
     "name": "stdout",
     "output_type": "stream",
     "text": [
      "CPU times: user 3.44 s, sys: 120 ms, total: 3.56 s\n",
      "Wall time: 689 ms\n"
     ]
    },
    {
     "data": {
      "text/plain": [
       "(108916, 22)"
      ]
     },
     "execution_count": 12,
     "metadata": {},
     "output_type": "execute_result"
    }
   ],
   "source": [
    "%%time\n",
    "txt_pca_def = PCA(n_components=22, svd_solver=\"full\").fit_transform(txt_vect)\n",
    "txt_pca_def.shape"
   ]
  },
  {
   "cell_type": "markdown",
   "metadata": {},
   "source": [
    "#### Kmeans"
   ]
  },
  {
   "cell_type": "markdown",
   "metadata": {},
   "source": [
    "##### Long proofs"
   ]
  },
  {
   "cell_type": "markdown",
   "metadata": {},
   "source": [
    "PCA"
   ]
  },
  {
   "cell_type": "code",
   "execution_count": 23,
   "metadata": {},
   "outputs": [],
   "source": [
    "n_centers = list(range(2,35))\n",
    "n_tries = 6\n",
    "repe = rep(n_centers, n_tries)"
   ]
  },
  {
   "cell_type": "code",
   "execution_count": 24,
   "metadata": {},
   "outputs": [
    {
     "name": "stdout",
     "output_type": "stream",
     "text": [
      "centers: 2 silhuouette: 0.11077060270767405 inertia: 36498566.957424566\n",
      "centers: 2 silhuouette: 0.11082274316829882 inertia: 36498573.22305294\n",
      "centers: 2 silhuouette: 0.11059907404617524 inertia: 36498562.19171283\n",
      "centers: 2 silhuouette: 0.11057557347514615 inertia: 36498571.624581344\n",
      "centers: 2 silhuouette: 0.11059349512543379 inertia: 36498563.256209284\n",
      "centers: 2 silhuouette: 0.1108209825146868 inertia: 36498565.99283923\n",
      "centers: 3 silhuouette: 0.08472405195007655 inertia: 34118887.30725061\n",
      "centers: 3 silhuouette: 0.08474953094126905 inertia: 34118876.813279286\n",
      "centers: 3 silhuouette: 0.08484731496955565 inertia: 34118885.61923585\n",
      "centers: 3 silhuouette: 0.08484799975545876 inertia: 34118891.10235763\n",
      "centers: 3 silhuouette: 0.0847158775089285 inertia: 34118905.69052748\n",
      "centers: 3 silhuouette: 0.084699446722237 inertia: 34118880.64036059\n",
      "centers: 4 silhuouette: 0.08691863856138622 inertia: 32786719.719097838\n",
      "centers: 4 silhuouette: 0.08701327444977909 inertia: 32786656.086629774\n",
      "centers: 4 silhuouette: 0.08735767124877478 inertia: 32786848.334323652\n",
      "centers: 4 silhuouette: 0.0872224072924843 inertia: 32786671.332485326\n",
      "centers: 4 silhuouette: 0.08689394014654017 inertia: 32786744.020184416\n",
      "centers: 4 silhuouette: 0.086918392538129 inertia: 32786712.061846547\n",
      "centers: 5 silhuouette: 0.08678996164713376 inertia: 31635860.614458047\n",
      "centers: 5 silhuouette: 0.08677262574258215 inertia: 31635852.96821678\n",
      "centers: 5 silhuouette: 0.08167634664426265 inertia: 31643232.59939553\n",
      "centers: 5 silhuouette: 0.08564510947787429 inertia: 31636243.276426412\n",
      "centers: 5 silhuouette: 0.08678139140320781 inertia: 31635853.71711417\n",
      "centers: 5 silhuouette: 0.08630875941165457 inertia: 31635651.76472544\n",
      "centers: 6 silhuouette: 0.08156292161765037 inertia: 30674420.540929016\n",
      "centers: 6 silhuouette: 0.08216397107600139 inertia: 30674556.049793176\n",
      "centers: 6 silhuouette: 0.08213486765426488 inertia: 30674566.4857543\n",
      "centers: 6 silhuouette: 0.08217415561803314 inertia: 30674551.794919834\n",
      "centers: 6 silhuouette: 0.08195204292130305 inertia: 30674499.751292188\n",
      "centers: 6 silhuouette: 0.08210940778232381 inertia: 30674575.509881068\n",
      "centers: 7 silhuouette: 0.06621596606879582 inertia: 29941493.760624938\n",
      "centers: 7 silhuouette: 0.06617647105518437 inertia: 29941452.3976463\n",
      "centers: 7 silhuouette: 0.06633743756829859 inertia: 29941452.170496587\n",
      "centers: 7 silhuouette: 0.06621099192317566 inertia: 29941434.975989524\n",
      "centers: 7 silhuouette: 0.06653234482149896 inertia: 29941532.312755346\n",
      "centers: 7 silhuouette: 0.06620603110592693 inertia: 29941453.86753318\n",
      "centers: 8 silhuouette: 0.07153961507981597 inertia: 29262090.24193696\n",
      "centers: 8 silhuouette: 0.0712756209143416 inertia: 29262149.472477227\n",
      "centers: 8 silhuouette: 0.07196448997965908 inertia: 29262194.7205196\n",
      "centers: 8 silhuouette: 0.07128151506256454 inertia: 29262151.656355176\n",
      "centers: 8 silhuouette: 0.07145064024240305 inertia: 29262116.66817706\n",
      "centers: 8 silhuouette: 0.07126853829967254 inertia: 29262133.27388361\n",
      "centers: 9 silhuouette: 0.07468776455953922 inertia: 28742132.802674375\n",
      "centers: 9 silhuouette: 0.074828279963585 inertia: 28742090.011469726\n",
      "centers: 9 silhuouette: 0.0743058064734325 inertia: 28741942.45230185\n",
      "centers: 9 silhuouette: 0.07506416099761025 inertia: 28742230.093371753\n",
      "centers: 9 silhuouette: 0.0750894842804316 inertia: 28742255.318586804\n",
      "centers: 9 silhuouette: 0.07430110055090125 inertia: 28741938.19900704\n",
      "centers: 10 silhuouette: 0.06841055059090978 inertia: 28254211.60516831\n",
      "centers: 10 silhuouette: 0.06597046507752963 inertia: 28283713.22123295\n",
      "centers: 10 silhuouette: 0.06916801983328633 inertia: 28265614.545627825\n",
      "centers: 10 silhuouette: 0.06843828695970045 inertia: 28254227.619352892\n",
      "centers: 10 silhuouette: 0.06921057606508497 inertia: 28265608.92523565\n",
      "centers: 10 silhuouette: 0.068520146595291 inertia: 28254227.242930647\n",
      "centers: 11 silhuouette: 0.06935428695014789 inertia: 27816472.41009775\n",
      "centers: 11 silhuouette: 0.06648483753151185 inertia: 27796846.039343394\n",
      "centers: 11 silhuouette: 0.06823959704442392 inertia: 27795942.52010355\n",
      "centers: 11 silhuouette: 0.06672961292594612 inertia: 27797046.97320262\n",
      "centers: 11 silhuouette: 0.0663695910399355 inertia: 27796802.68791111\n",
      "centers: 11 silhuouette: 0.06761555782373051 inertia: 27796100.218699984\n",
      "centers: 12 silhuouette: 0.06800026791759065 inertia: 27356015.47968041\n",
      "centers: 12 silhuouette: 0.067882343043666 inertia: 27356061.974907376\n",
      "centers: 12 silhuouette: 0.06803778688324091 inertia: 27356007.363420866\n",
      "centers: 12 silhuouette: 0.06808122234504423 inertia: 27356091.629085533\n",
      "centers: 12 silhuouette: 0.06796742595413108 inertia: 27356009.0134913\n",
      "centers: 12 silhuouette: 0.06803359854757357 inertia: 27356007.72213922\n",
      "centers: 13 silhuouette: 0.0699675792296097 inertia: 26976545.67909635\n",
      "centers: 13 silhuouette: 0.0700395508823915 inertia: 26976555.503672812\n",
      "centers: 13 silhuouette: 0.06997629219242647 inertia: 26976559.51334212\n",
      "centers: 13 silhuouette: 0.07002035545353699 inertia: 26976523.95871219\n",
      "centers: 13 silhuouette: 0.07002416071965087 inertia: 26976525.84001512\n",
      "centers: 13 silhuouette: 0.07002465546241174 inertia: 26976534.494060785\n",
      "centers: 14 silhuouette: 0.0656638734947728 inertia: 26618019.854026932\n",
      "centers: 14 silhuouette: 0.06546138232281754 inertia: 26617850.491039384\n",
      "centers: 14 silhuouette: 0.06633683420821262 inertia: 26649656.503427953\n",
      "centers: 14 silhuouette: 0.06552319755072845 inertia: 26617900.930265974\n",
      "centers: 14 silhuouette: 0.06639003923052642 inertia: 26649796.08459484\n",
      "centers: 14 silhuouette: 0.06659319696117817 inertia: 26649942.64107059\n",
      "centers: 15 silhuouette: 0.0679540966578166 inertia: 26314037.128512558\n",
      "centers: 15 silhuouette: 0.06734281863486657 inertia: 26356241.15934331\n",
      "centers: 15 silhuouette: 0.06796649171343709 inertia: 26314080.535952903\n",
      "centers: 15 silhuouette: 0.06620734603645796 inertia: 26334424.765973773\n",
      "centers: 15 silhuouette: 0.0656070236866292 inertia: 26331254.680372402\n",
      "centers: 15 silhuouette: 0.06800531103002869 inertia: 26314198.562972303\n",
      "centers: 16 silhuouette: 0.06609166214372043 inertia: 26017308.21148671\n",
      "centers: 16 silhuouette: 0.06611270004633306 inertia: 26017454.547398284\n",
      "centers: 16 silhuouette: 0.06676828950057379 inertia: 26056972.833193507\n",
      "centers: 16 silhuouette: 0.06652147887890718 inertia: 26058852.447078645\n",
      "centers: 16 silhuouette: 0.06411516335467582 inertia: 26026585.702741306\n",
      "centers: 16 silhuouette: 0.06710616962145755 inertia: 26054986.626836244\n",
      "centers: 17 silhuouette: 0.06498424208647295 inertia: 25771099.097513665\n",
      "centers: 17 silhuouette: 0.06510530052808787 inertia: 25758540.824998092\n",
      "centers: 17 silhuouette: 0.06980984533168735 inertia: 25757485.850624084\n",
      "centers: 17 silhuouette: 0.06698930461640094 inertia: 25737522.276632477\n",
      "centers: 17 silhuouette: 0.06544528472411575 inertia: 25763977.78726688\n",
      "centers: 17 silhuouette: 0.06530923110657218 inertia: 25781120.02243553\n",
      "centers: 18 silhuouette: 0.06839149546235167 inertia: 25490297.585175987\n",
      "centers: 18 silhuouette: 0.06838225166081376 inertia: 25482755.38724345\n",
      "centers: 18 silhuouette: 0.06684598614500958 inertia: 25490694.58819763\n",
      "centers: 18 silhuouette: 0.06822381520441183 inertia: 25472583.792059515\n",
      "centers: 18 silhuouette: 0.0695835607665112 inertia: 25500349.65612162\n",
      "centers: 18 silhuouette: 0.07131788503236483 inertia: 25493843.054530334\n",
      "centers: 19 silhuouette: 0.06894711323831776 inertia: 25231497.63276961\n",
      "centers: 19 silhuouette: 0.06869671837343339 inertia: 25233714.543021098\n",
      "centers: 19 silhuouette: 0.06771240798171006 inertia: 25229025.541143544\n",
      "centers: 19 silhuouette: 0.06909096723659396 inertia: 25225551.106094483\n",
      "centers: 19 silhuouette: 0.0697059564316028 inertia: 25211925.459531244\n",
      "centers: 19 silhuouette: 0.0676572311349827 inertia: 25236062.616461504\n",
      "centers: 20 silhuouette: 0.0712546005579617 inertia: 24976343.577100012\n",
      "centers: 20 silhuouette: 0.07096573292372782 inertia: 25024000.71113392\n",
      "centers: 20 silhuouette: 0.07092958762549408 inertia: 24981178.600197013\n",
      "centers: 20 silhuouette: 0.0690576646615357 inertia: 24988543.88583119\n",
      "centers: 20 silhuouette: 0.07230229291114149 inertia: 25018001.846745696\n",
      "centers: 20 silhuouette: 0.07076105626699714 inertia: 24981123.94201552\n",
      "centers: 21 silhuouette: 0.07057056534224165 inertia: 24766185.94540512\n",
      "centers: 21 silhuouette: 0.07146643086638398 inertia: 24737202.23872263\n",
      "centers: 21 silhuouette: 0.07050072779726858 inertia: 24766138.049941804\n",
      "centers: 21 silhuouette: 0.06971479723619059 inertia: 24764109.913848393\n",
      "centers: 21 silhuouette: 0.06971227110317274 inertia: 24763085.365608297\n",
      "centers: 21 silhuouette: 0.07106617608987459 inertia: 24740334.671046127\n",
      "centers: 22 silhuouette: 0.073077941303886 inertia: 24510844.89799377\n",
      "centers: 22 silhuouette: 0.07184341810165043 inertia: 24544946.52178131\n",
      "centers: 22 silhuouette: 0.07166942379667543 inertia: 24530760.66243884\n",
      "centers: 22 silhuouette: 0.07287689688530723 inertia: 24514195.106876697\n",
      "centers: 22 silhuouette: 0.07313933311912645 inertia: 24510954.86297456\n",
      "centers: 22 silhuouette: 0.07148773071495988 inertia: 24534308.89311723\n",
      "centers: 23 silhuouette: 0.07258408232467685 inertia: 24315938.8732148\n",
      "centers: 23 silhuouette: 0.07307591080680108 inertia: 24316830.552305542\n",
      "centers: 23 silhuouette: 0.07282338759478074 inertia: 24311866.99112649\n",
      "centers: 23 silhuouette: 0.07277698699814995 inertia: 24311816.121481463\n",
      "centers: 23 silhuouette: 0.07472230783732144 inertia: 24323888.72343028\n",
      "centers: 23 silhuouette: 0.07176773502278937 inertia: 24352382.136474323\n",
      "centers: 24 silhuouette: 0.07129440542896032 inertia: 24144691.0223975\n",
      "centers: 24 silhuouette: 0.07306871840429789 inertia: 24142731.751572296\n",
      "centers: 24 silhuouette: 0.07415681234673134 inertia: 24156835.34880696\n",
      "centers: 24 silhuouette: 0.07367397618117062 inertia: 24148999.701488547\n",
      "centers: 24 silhuouette: 0.07417628347883926 inertia: 24125732.100657992\n",
      "centers: 24 silhuouette: 0.07133108162905015 inertia: 24162500.04681134\n",
      "centers: 25 silhuouette: 0.07331206344606156 inertia: 23962293.657117456\n",
      "centers: 25 silhuouette: 0.07038628392008633 inertia: 23971704.80021965\n",
      "centers: 25 silhuouette: 0.07297371884366205 inertia: 23986148.83293703\n",
      "centers: 25 silhuouette: 0.0763839777449689 inertia: 23976364.13570772\n",
      "centers: 25 silhuouette: 0.07533443580252631 inertia: 23953342.366048213\n",
      "centers: 25 silhuouette: 0.07259211370873167 inertia: 23977814.59954116\n",
      "centers: 26 silhuouette: 0.07394780694445352 inertia: 23784056.96695386\n",
      "centers: 26 silhuouette: 0.07459439098501953 inertia: 23780136.751289733\n",
      "centers: 26 silhuouette: 0.07647281723986332 inertia: 23774558.21391569\n",
      "centers: 26 silhuouette: 0.07455469102686339 inertia: 23784327.341082115\n",
      "centers: 26 silhuouette: 0.07568053031870647 inertia: 23790810.2897461\n",
      "centers: 26 silhuouette: 0.07392476588920933 inertia: 23787710.790141694\n",
      "centers: 27 silhuouette: 0.07812967315882267 inertia: 23641804.155560695\n",
      "centers: 27 silhuouette: 0.07542379914161097 inertia: 23609829.02965545\n",
      "centers: 27 silhuouette: 0.07661362289850591 inertia: 23617044.013423327\n",
      "centers: 27 silhuouette: 0.07554634931307214 inertia: 23615797.38953545\n",
      "centers: 27 silhuouette: 0.07664195654012139 inertia: 23637629.67190702\n",
      "centers: 27 silhuouette: 0.07627668564062691 inertia: 23602164.338113546\n",
      "centers: 28 silhuouette: 0.07575001126289774 inertia: 23450811.165465258\n",
      "centers: 28 silhuouette: 0.07693628470519046 inertia: 23444852.99162422\n",
      "centers: 28 silhuouette: 0.0721955448754084 inertia: 23470226.03006524\n",
      "centers: 28 silhuouette: 0.07633118539643864 inertia: 23455696.049485937\n",
      "centers: 28 silhuouette: 0.07563853988923658 inertia: 23468090.306441944\n",
      "centers: 28 silhuouette: 0.07712828136567128 inertia: 23469593.474396273\n",
      "centers: 29 silhuouette: 0.07729018574010263 inertia: 23305339.272988647\n",
      "centers: 29 silhuouette: 0.07259426604732373 inertia: 23312620.841721334\n",
      "centers: 29 silhuouette: 0.07718050505474035 inertia: 23291467.751486264\n",
      "centers: 29 silhuouette: 0.07074221647190977 inertia: 23315270.436570905\n",
      "centers: 29 silhuouette: 0.07670915870663264 inertia: 23298896.5475226\n",
      "centers: 29 silhuouette: 0.07631305599738686 inertia: 23302197.593994208\n",
      "centers: 30 silhuouette: 0.0785765666260442 inertia: 23140464.989480678\n",
      "centers: 30 silhuouette: 0.07802555148050361 inertia: 23155113.891944967\n",
      "centers: 30 silhuouette: 0.07804170455600928 inertia: 23160893.91296827\n",
      "centers: 30 silhuouette: 0.07775498912781875 inertia: 23134382.92010578\n",
      "centers: 30 silhuouette: 0.0777198957970552 inertia: 23137249.056635845\n",
      "centers: 30 silhuouette: 0.0739738712974266 inertia: 23151713.25035907\n",
      "centers: 31 silhuouette: 0.07820258210885064 inertia: 22998683.69878473\n",
      "centers: 31 silhuouette: 0.07585410663428442 inertia: 23028050.80694801\n",
      "centers: 31 silhuouette: 0.0794486090851502 inertia: 22991683.652946927\n",
      "centers: 31 silhuouette: 0.07942568723510092 inertia: 22995115.06546619\n",
      "centers: 31 silhuouette: 0.07330994267096003 inertia: 23025229.785993487\n",
      "centers: 31 silhuouette: 0.07879382699265514 inertia: 23005468.298326213\n",
      "centers: 32 silhuouette: 0.07329250611942154 inertia: 22892740.753123216\n",
      "centers: 32 silhuouette: 0.07464316945693614 inertia: 22882328.66176495\n",
      "centers: 32 silhuouette: 0.07427466018830503 inertia: 22863518.142559797\n",
      "centers: 32 silhuouette: 0.07582876445256144 inertia: 22871018.77388241\n",
      "centers: 32 silhuouette: 0.07430434005414183 inertia: 22884402.879956275\n",
      "centers: 32 silhuouette: 0.07994491893378183 inertia: 22842708.810372427\n",
      "centers: 33 silhuouette: 0.07993186459199453 inertia: 22716871.63291277\n",
      "centers: 33 silhuouette: 0.07722586746762983 inertia: 22737312.031423252\n",
      "centers: 33 silhuouette: 0.08013114769425891 inertia: 22721826.830262415\n",
      "centers: 33 silhuouette: 0.0742863202095165 inertia: 22756045.685466666\n",
      "centers: 33 silhuouette: 0.0744556275580174 inertia: 22753706.8503816\n",
      "centers: 33 silhuouette: 0.07306713113863339 inertia: 22733707.54533196\n",
      "centers: 34 silhuouette: 0.07487568695163704 inertia: 22581798.517437898\n",
      "centers: 34 silhuouette: 0.07518895962540859 inertia: 22598745.26240203\n",
      "centers: 34 silhuouette: 0.0757223160210718 inertia: 22582570.594623446\n",
      "centers: 34 silhuouette: 0.07450838702390895 inertia: 22579182.855331384\n",
      "centers: 34 silhuouette: 0.07413518553554806 inertia: 22606699.799452886\n",
      "centers: 34 silhuouette: 0.07392690563851854 inertia: 22596390.97166567\n",
      "CPU times: user 12h 15min 51s, sys: 15h 44min 58s, total: 1d 4h 50s\n",
      "Wall time: 8h 37min 58s\n"
     ]
    }
   ],
   "source": [
    "%%time\n",
    "ks = []\n",
    "for i in repe:\n",
    "    k = KMeans(n_clusters=i)\n",
    "    k_labels = k.fit_predict(txt_pca_def)\n",
    "    k_silhouette = silhouette_score(txt_pca_def, k_labels)\n",
    "    ks.append((i, k_silhouette, k.inertia_, k.cluster_centers_))    \n",
    "    print(\"centers: \" + str(i) + \" silhuouette: \" + str(k_silhouette) + \" inertia: \" + str(k.inertia_)) "
   ]
  },
  {
   "cell_type": "code",
   "execution_count": 25,
   "metadata": {},
   "outputs": [],
   "source": [
    "scores_sil = [x[1] for x in ks]\n",
    "scores_ine = [x[2] for x in ks]"
   ]
  },
  {
   "cell_type": "code",
   "execution_count": 33,
   "metadata": {},
   "outputs": [
    {
     "data": {
      "text/plain": [
       "[<matplotlib.lines.Line2D at 0x7f0c30ee0b50>]"
      ]
     },
     "execution_count": 33,
     "metadata": {},
     "output_type": "execute_result"
    },
    {
     "data": {
      "image/png": "[encoded data removed]",
      "text/plain": [
       "<Figure size 432x288 with 1 Axes>"
      ]
     },
     "metadata": {
      "needs_background": "light"
     },
     "output_type": "display_data"
    }
   ],
   "source": [
    "fff = pd.DataFrame(ks)"
   ]
  },
  {
   "cell_type": "markdown",
   "metadata": {},
   "source": [
    "### IMG"
   ]
  },
  {
   "cell_type": "markdown",
   "metadata": {},
   "source": [
    "### Both"
   ]
  },
  {
   "cell_type": "code",
   "execution_count": null,
   "metadata": {},
   "outputs": [],
   "source": []
  }
 ],
 "metadata": {
  "kernelspec": {
   "display_name": "Python 3",
   "language": "python",
   "name": "python3"
  },
  "language_info": {
   "codemirror_mode": {
    "name": "ipython",
    "version": 3
   },
   "file_extension": ".py",
   "mimetype": "text/x-python",
   "name": "python",
   "nbconvert_exporter": "python",
   "pygments_lexer": "ipython3",
   "version": "3.7.7"
  }
 },
 "nbformat": 4,
 "nbformat_minor": 4
}
