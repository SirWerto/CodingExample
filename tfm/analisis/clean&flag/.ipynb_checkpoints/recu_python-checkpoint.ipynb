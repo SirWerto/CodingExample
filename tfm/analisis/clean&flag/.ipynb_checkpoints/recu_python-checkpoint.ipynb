{
  "nbformat": 4,
  "nbformat_minor": 0,
  "metadata": {
    "colab": {
      "name": "recu_python.ipynb",
      "provenance": [],
      "toc_visible": true
    },
    "kernelspec": {
      "name": "python3",
      "display_name": "Python 3"
    }
  },
  "cells": [
    {
      "cell_type": "code",
      "metadata": {
        "id": "RfmCN78br4sa",
        "colab_type": "code",
        "colab": {
          "base_uri": "https://localhost:8080/",
          "height": 191
        },
        "outputId": "476c1e73-53d9-4c66-ee6c-bc05a634539f"
      },
      "source": [
        "!pip install pandas unidecode"
      ],
      "execution_count": null,
      "outputs": [
        {
          "output_type": "stream",
          "text": [
            "Requirement already satisfied: pandas in /usr/local/lib/python3.6/dist-packages (1.0.4)\n",
            "Collecting unidecode\n",
            "\u001b[?25l  Downloading https://files.pythonhosted.org/packages/d0/42/d9edfed04228bacea2d824904cae367ee9efd05e6cce7ceaaedd0b0ad964/Unidecode-1.1.1-py2.py3-none-any.whl (238kB)\n",
            "\u001b[K     |████████████████████████████████| 245kB 3.5MB/s \n",
            "\u001b[?25hRequirement already satisfied: numpy>=1.13.3 in /usr/local/lib/python3.6/dist-packages (from pandas) (1.18.5)\n",
            "Requirement already satisfied: pytz>=2017.2 in /usr/local/lib/python3.6/dist-packages (from pandas) (2018.9)\n",
            "Requirement already satisfied: python-dateutil>=2.6.1 in /usr/local/lib/python3.6/dist-packages (from pandas) (2.8.1)\n",
            "Requirement already satisfied: six>=1.5 in /usr/local/lib/python3.6/dist-packages (from python-dateutil>=2.6.1->pandas) (1.12.0)\n",
            "Installing collected packages: unidecode\n",
            "Successfully installed unidecode-1.1.1\n"
          ],
          "name": "stdout"
        }
      ]
    },
    {
      "cell_type": "code",
      "metadata": {
        "id": "F5oOCQcpsB-3",
        "colab_type": "code",
        "colab": {}
      },
      "source": [
        "import pandas as pd\n",
        "import unidecode"
      ],
      "execution_count": null,
      "outputs": []
    },
    {
      "cell_type": "markdown",
      "metadata": {
        "id": "YSiWXSI1sFJ1",
        "colab_type": "text"
      },
      "source": [
        "# Ejercicio 1"
      ]
    },
    {
      "cell_type": "markdown",
      "metadata": {
        "id": "nyQULEnuv5j-",
        "colab_type": "text"
      },
      "source": [
        "La idea de este ejercicio es bastante simple, en primera instancia se eliminan espacios y comas y para eliminar tildes se recurre a buscar el caracter assci más cercano con la función unidecode.\n",
        "Después, se parte la frase por la mitad, se le da la vuelta a la segunda parte\n",
        "y se hace una comparación simple que devuelve el resultado. \n",
        "No ha hecho falta verificar que la longitud sea par puesto que arroja un False en esa situación."
      ]
    },
    {
      "cell_type": "markdown",
      "metadata": {
        "id": "mIxxqR3VyE0g",
        "colab_type": "text"
      },
      "source": [
        "Con la función ej1_frases se divide el texto por frases tomando al punto como delimitador y se aplica la función ej1 a cada frase, devolviendo un array booleano."
      ]
    },
    {
      "cell_type": "code",
      "metadata": {
        "id": "KN8zlZ_ZFCD3",
        "colab_type": "code",
        "colab": {}
      },
      "source": [
        "def ej1(s):\n",
        "  ns = unidecode.unidecode(s.replace(\" \", \"\").replace(\",\", \"\").lower())\n",
        "\n",
        "  l2 = int(len(ns)/2)\n",
        "  p1 = ns[:l2]\n",
        "  p2 = ns[l2:][::-1]\n",
        "\n",
        "  return (p1 == p2)\n",
        "  \n",
        "  "
      ],
      "execution_count": null,
      "outputs": []
    },
    {
      "cell_type": "code",
      "metadata": {
        "id": "MSbp1dTYxkMV",
        "colab_type": "code",
        "colab": {}
      },
      "source": [
        "def ej1_texto(texto):\n",
        "  return [ej1(x) for x in texto.split(\".\")]"
      ],
      "execution_count": 1,
      "outputs": []
    },
    {
      "cell_type": "code",
      "metadata": {
        "id": "35L3UES_F1qB",
        "colab_type": "code",
        "colab": {
          "base_uri": "https://localhost:8080/",
          "height": 34
        },
        "outputId": "28e9a519-9491-4042-cfe5-a4547666a26a"
      },
      "source": [
        "x1 = \"hola PÁcoo,      óocap aloh\"\n",
        "x1"
      ],
      "execution_count": null,
      "outputs": [
        {
          "output_type": "execute_result",
          "data": {
            "text/plain": [
              "'hola PÁcoo,      óocap aloh'"
            ]
          },
          "metadata": {
            "tags": []
          },
          "execution_count": 59
        }
      ]
    },
    {
      "cell_type": "code",
      "metadata": {
        "id": "AvGW6VDZWTGM",
        "colab_type": "code",
        "colab": {
          "base_uri": "https://localhost:8080/",
          "height": 34
        },
        "outputId": "066312ef-c552-4d91-a6be-e2a41ebc8a96"
      },
      "source": [
        "x2 = \"hola PÁcoo000,      óocap aloh\"\n",
        "x2"
      ],
      "execution_count": null,
      "outputs": [
        {
          "output_type": "execute_result",
          "data": {
            "text/plain": [
              "'hola PÁcoo000,      óocap aloh'"
            ]
          },
          "metadata": {
            "tags": []
          },
          "execution_count": 67
        }
      ]
    },
    {
      "cell_type": "code",
      "metadata": {
        "id": "tivnHWTsUD_Y",
        "colab_type": "code",
        "colab": {
          "base_uri": "https://localhost:8080/",
          "height": 34
        },
        "outputId": "4aefd1c6-8248-4908-aaac-75fd30d234d0"
      },
      "source": [
        "ej1(x1)"
      ],
      "execution_count": null,
      "outputs": [
        {
          "output_type": "execute_result",
          "data": {
            "text/plain": [
              "True"
            ]
          },
          "metadata": {
            "tags": []
          },
          "execution_count": 64
        }
      ]
    },
    {
      "cell_type": "code",
      "metadata": {
        "id": "n_1l5g3dWaqJ",
        "colab_type": "code",
        "colab": {
          "base_uri": "https://localhost:8080/",
          "height": 34
        },
        "outputId": "a5b33261-f7e2-4a60-8d53-33d4d3798a5b"
      },
      "source": [
        "ej1(x2)"
      ],
      "execution_count": null,
      "outputs": [
        {
          "output_type": "execute_result",
          "data": {
            "text/plain": [
              "False"
            ]
          },
          "metadata": {
            "tags": []
          },
          "execution_count": 68
        }
      ]
    },
    {
      "cell_type": "markdown",
      "metadata": {
        "id": "wflYyZPMsLa9",
        "colab_type": "text"
      },
      "source": [
        "# Ejercicio 2"
      ]
    },
    {
      "cell_type": "markdown",
      "metadata": {
        "id": "dAh4MOaVzTz2",
        "colab_type": "text"
      },
      "source": [
        "Esta operación es más compleja, por lo que se ha recurrido a dividirla en 2 funciónes diferentes. "
      ]
    },
    {
      "cell_type": "markdown",
      "metadata": {
        "id": "mctqG1wRzuog",
        "colab_type": "text"
      },
      "source": [
        "### n_conbs"
      ]
    },
    {
      "cell_type": "markdown",
      "metadata": {
        "id": "ac0rYOVFzcGS",
        "colab_type": "text"
      },
      "source": [
        "dados p como palabra y n como longitud,\n",
        "devuele los n gramas de la palabra en forma de set para evitar redundancia."
      ]
    },
    {
      "cell_type": "markdown",
      "metadata": {
        "id": "Y_X_dAJAzi0x",
        "colab_type": "text"
      },
      "source": [
        "### ej2: "
      ]
    },
    {
      "cell_type": "markdown",
      "metadata": {
        "id": "D0yAckJ3zqNb",
        "colab_type": "text"
      },
      "source": [
        "para obtener le número de letras en común, recurre a las operaciones de conjuntos y calcula la dimensión de la intersección."
      ]
    },
    {
      "cell_type": "markdown",
      "metadata": {
        "id": "VQoFmSgtzqPt",
        "colab_type": "text"
      },
      "source": [
        "para calcular los n gramas en cumún, calcula empleando n_conbs, los i gramas de cada palabra y realiza la operación intersección para ver cuales son comunes, esto lo almacena en una lista que luego se devuelve. Es irrelevante cual de las dos palabras se emplea para definir el bucle, porque en caso de que el i grama buscado se más grande que la palabra, n_conbs devuelve un set vacio."
      ]
    },
    {
      "cell_type": "code",
      "metadata": {
        "id": "VuGaBaNcW7A0",
        "colab_type": "code",
        "colab": {}
      },
      "source": [
        "def n_conbs(p, n):\n",
        "  s = []\n",
        "  for i in range(len(p)-(n-1)):\n",
        "    s.append(p[i:n+i])\n",
        "  return set(s)\n",
        "\n",
        "def ej2(p1, p2):\n",
        "\n",
        "  ncl = len(set(p1).intersection(set(p2))) # numero de letras en comun\n",
        "\n",
        "  n_grams = []\n",
        "  for i in range(2,len(p1)):\n",
        "    sp1 = n_conbs(p1,i)\n",
        "    sp2 = n_conbs(p2,i)\n",
        "    n_grams += sp1.intersection(sp2)\n",
        "  return (n_grams, ncl)"
      ],
      "execution_count": null,
      "outputs": []
    },
    {
      "cell_type": "code",
      "metadata": {
        "id": "mHIAPVNVF5D3",
        "colab_type": "code",
        "colab": {}
      },
      "source": [
        "p1 = \"listo\"\n",
        "p2 = \"dioslis\""
      ],
      "execution_count": null,
      "outputs": []
    },
    {
      "cell_type": "code",
      "metadata": {
        "id": "027zrv8dQ3Tv",
        "colab_type": "code",
        "colab": {
          "base_uri": "https://localhost:8080/",
          "height": 34
        },
        "outputId": "5c31e462-fe24-4b7f-a846-a046980d3486"
      },
      "source": [
        "ej2(p1,p2)"
      ],
      "execution_count": null,
      "outputs": [
        {
          "output_type": "execute_result",
          "data": {
            "text/plain": [
              "(['li', 'is', 'lis'], 4)"
            ]
          },
          "metadata": {
            "tags": []
          },
          "execution_count": 97
        }
      ]
    },
    {
      "cell_type": "markdown",
      "metadata": {
        "id": "zie_9-EssNZj",
        "colab_type": "text"
      },
      "source": [
        "# Ejercicio 3"
      ]
    },
    {
      "cell_type": "markdown",
      "metadata": {
        "id": "AeDTEioU1LFy",
        "colab_type": "text"
      },
      "source": [
        "Lectura de csv"
      ]
    },
    {
      "cell_type": "code",
      "metadata": {
        "id": "0l5frf_asEku",
        "colab_type": "code",
        "colab": {}
      },
      "source": [
        "bicis = pd.read_csv(\"AccidentesBicicletas_2018.csv\")"
      ],
      "execution_count": null,
      "outputs": []
    },
    {
      "cell_type": "markdown",
      "metadata": {
        "id": "ZJ_a0GzK1P7P",
        "colab_type": "text"
      },
      "source": [
        "Se realiza un filtro para quedarse solo con los valores de lesividad HG, después se realizan las operaciones con valores que compartan la misma clave de distrito, se cuenta el total de valores, se ordena el resultado final y se recoge el primer valor."
      ]
    },
    {
      "cell_type": "code",
      "metadata": {
        "id": "oZW0qAtcucnI",
        "colab_type": "code",
        "colab": {
          "base_uri": "https://localhost:8080/",
          "height": 69
        },
        "outputId": "1390374f-a2f0-4d48-95c7-258ad125dc48"
      },
      "source": [
        "bicis[bicis[\"LESIVIDAD\"].str.replace(\" \", \"\") == \"HG\"].groupby(by =\"DISTRITO\")[\"LESIVIDAD\"].count().sort_values(ascending=False).head(1)"
      ],
      "execution_count": null,
      "outputs": [
        {
          "output_type": "execute_result",
          "data": {
            "text/plain": [
              "DISTRITO\n",
              "RETIRO                            7\n",
              "Name: LESIVIDAD, dtype: int64"
            ]
          },
          "metadata": {
            "tags": []
          },
          "execution_count": 32
        }
      ]
    },
    {
      "cell_type": "markdown",
      "metadata": {
        "id": "3ROmjJA85mVJ",
        "colab_type": "text"
      },
      "source": [
        "paso 1: la idea es dividir a la variable Rango Horario en 4 tramos, para eso primero se parsea a la variable para obtener los números enteros de las horas, se les suma 1 para que sean la hora de finalización y se definen los tramos con pandas cut "
      ]
    },
    {
      "cell_type": "markdown",
      "metadata": {
        "id": "cJxXZYAE6K_z",
        "colab_type": "text"
      },
      "source": [
        "paso 2: una vez definida la columna previa, es simplemte contar el numero de casos que compartan las claves de distrito y horario."
      ]
    },
    {
      "cell_type": "code",
      "metadata": {
        "id": "NaZrffLMzCbU",
        "colab_type": "code",
        "colab": {
          "base_uri": "https://localhost:8080/",
          "height": 243
        },
        "outputId": "68cec4d3-bb69-4ce5-aeff-0f09d211a121"
      },
      "source": [
        "bicis[\"horario\"] = pd.cut(bicis[\"RANGO HORARIO\"].apply(lambda x: x[2:5]).str.replace(\":\", \"\").astype(\"int\") + 1, [0, 6, 12, 18, 24], labels=[\"0-6\", \"6-12\", \"12-18\", \"18-0\"])\n",
        "bicis.groupby(by=[\"DISTRITO\", \"horario\"])[\"LESIVIDAD\"].count()"
      ],
      "execution_count": null,
      "outputs": [
        {
          "output_type": "execute_result",
          "data": {
            "text/plain": [
              "DISTRITO                        horario\n",
              "ARGANZUELA                      0-6        2\n",
              "                                6-12       5\n",
              "                                12-18      9\n",
              "                                18-0       9\n",
              "BARAJAS                         0-6        0\n",
              "                                          ..\n",
              "VILLA DE VALLECAS               18-0       1\n",
              "VILLAVERDE                      0-6        0\n",
              "                                6-12       1\n",
              "                                12-18      3\n",
              "                                18-0       3\n",
              "Name: LESIVIDAD, Length: 84, dtype: int64"
            ]
          },
          "metadata": {
            "tags": []
          },
          "execution_count": 77
        }
      ]
    }
  ]
}