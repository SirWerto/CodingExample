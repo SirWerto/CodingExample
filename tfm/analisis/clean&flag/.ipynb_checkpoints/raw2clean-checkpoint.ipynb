{
 "cells": [
  {
   "cell_type": "code",
   "execution_count": 1,
   "metadata": {},
   "outputs": [],
   "source": [
    "import pandas as pd\n",
    "from pyspark import SparkContext, SparkConf\n",
    "from ast import literal_eval\n",
    "import json\n",
    "from datetime import datetime, timedelta"
   ]
  },
  {
   "cell_type": "markdown",
   "metadata": {},
   "source": [
    "## Open Raw"
   ]
  },
  {
   "cell_type": "code",
   "execution_count": 2,
   "metadata": {},
   "outputs": [
    {
     "name": "stdout",
     "output_type": "stream",
     "text": [
      "CPU times: user 16.4 s, sys: 1.9 s, total: 18.3 s\n",
      "Wall time: 18.9 s\n"
     ]
    }
   ],
   "source": [
    "%%time\n",
    "f = open(\"/home/jorge/tfm-jvm/data/raw/data.json\")\n",
    "data = json.load(f)\n",
    "f.close()\n",
    "del f"
   ]
  },
  {
   "cell_type": "code",
   "execution_count": 3,
   "metadata": {},
   "outputs": [],
   "source": [
    "data = data[\"docs\"]"
   ]
  },
  {
   "cell_type": "code",
   "execution_count": 5,
   "metadata": {},
   "outputs": [
    {
     "data": {
      "text/plain": [
       "2114567"
      ]
     },
     "execution_count": 5,
     "metadata": {},
     "output_type": "execute_result"
    }
   ],
   "source": [
    "len(data)"
   ]
  },
  {
   "cell_type": "code",
   "execution_count": 8,
   "metadata": {},
   "outputs": [
    {
     "data": {
      "text/plain": [
       "{'_id': '1001801/04/2020https://tx10.asia.travian.comp',\n",
       " '_rev': '14-c093d3eece65c824b23ebaaa6086d68f',\n",
       " 'type': 'player',\n",
       " 'id_p': 10018,\n",
       " 'name_p': [['Archon', '06/04/2020']],\n",
       " 'id_a': [[570, '06/04/2020'],\n",
       "  [140, '07/04/2020'],\n",
       "  [812, '13/04/2020'],\n",
       "  [505, '15/04/2020'],\n",
       "  [0, '18/04/2020']],\n",
       " 'last_day': '19/04/2020',\n",
       " 'id_s': '01/04/2020https://tx10.asia.travian.com'}"
      ]
     },
     "execution_count": 8,
     "metadata": {},
     "output_type": "execute_result"
    }
   ],
   "source": [
    "data[2001]"
   ]
  },
  {
   "cell_type": "code",
   "execution_count": 15,
   "metadata": {},
   "outputs": [],
   "source": [
    "p = [x for x in data if x[\"type\"] == \"player\"]"
   ]
  },
  {
   "cell_type": "code",
   "execution_count": 16,
   "metadata": {},
   "outputs": [
    {
     "data": {
      "text/plain": [
       "{'_id': '1000001/04/2020https://tx10.asia.travian.comp',\n",
       " '_rev': '15-6eb10ee5a3a7a699fbb7259e9eb31c73',\n",
       " 'type': 'player',\n",
       " 'id_p': 10000,\n",
       " 'name_p': [['Vov2000', '06/04/2020']],\n",
       " 'id_a': [[0, '06/04/2020']],\n",
       " 'last_day': '21/04/2020',\n",
       " 'id_s': '01/04/2020https://tx10.asia.travian.com'}"
      ]
     },
     "execution_count": 16,
     "metadata": {},
     "output_type": "execute_result"
    }
   ],
   "source": [
    "p[0]"
   ]
  },
  {
   "cell_type": "code",
   "execution_count": null,
   "metadata": {},
   "outputs": [],
   "source": [
    "def split(a, n):\n",
    "    k, m = divmod(len(a), n)\n",
    "    return list(a[i * k + min(i, m):(i + 1) * k + min(i + 1, m)] for i in range(n))"
   ]
  },
  {
   "cell_type": "code",
   "execution_count": null,
   "metadata": {},
   "outputs": [],
   "source": [
    "datas = split(data,100)\n",
    "del data"
   ]
  },
  {
   "cell_type": "markdown",
   "metadata": {},
   "source": [
    "## Clean it"
   ]
  },
  {
   "cell_type": "markdown",
   "metadata": {},
   "source": [
    "### Get Servers"
   ]
  },
  {
   "cell_type": "code",
   "execution_count": 7,
   "metadata": {},
   "outputs": [],
   "source": [
    "def get_server(x):\n",
    "    server = {\n",
    "        \"_id\":x[\"_id\"],\n",
    "        \"start_day\":x[\"start_day\"],\n",
    "        \"last_day\":x[\"last_day\"],\n",
    "        \"version\":x[\"version\"],\n",
    "        \"speed\":x[\"speed\"],\n",
    "        \"id_country\":x[\"id_country\"],\n",
    "        \"square\": (lambda x: True if (x[\"size\"][\"width\"] == x[\"size\"][\"height\"]) else False)(x),\n",
    "        \"territory\":x[\"game_flags\"][\"territory\"]\n",
    "    }\n",
    "    return server"
   ]
  },
  {
   "cell_type": "code",
   "execution_count": 8,
   "metadata": {},
   "outputs": [
    {
     "name": "stdout",
     "output_type": "stream",
     "text": [
      "CPU times: user 461 ms, sys: 0 ns, total: 461 ms\n",
      "Wall time: 461 ms\n"
     ]
    }
   ],
   "source": [
    "%%time\n",
    "s = [get_server(x) for x in data if x[\"type\"] == \"server\"]"
   ]
  },
  {
   "cell_type": "code",
   "execution_count": 9,
   "metadata": {},
   "outputs": [
    {
     "data": {
      "text/plain": [
       "{'_id': '02/04/2020https://tx3.travian.pl',\n",
       " 'start_day': '02/04/2020',\n",
       " 'last_day': '19/04/2020',\n",
       " 'version': '4.4',\n",
       " 'speed': '3',\n",
       " 'id_country': 'pl',\n",
       " 'square': True,\n",
       " 'territory': False}"
      ]
     },
     "execution_count": 9,
     "metadata": {},
     "output_type": "execute_result"
    }
   ],
   "source": [
    "s[10]"
   ]
  },
  {
   "cell_type": "code",
   "execution_count": 10,
   "metadata": {},
   "outputs": [
    {
     "data": {
      "text/html": [
       "<div>\n",
       "<style scoped>\n",
       "    .dataframe tbody tr th:only-of-type {\n",
       "        vertical-align: middle;\n",
       "    }\n",
       "\n",
       "    .dataframe tbody tr th {\n",
       "        vertical-align: top;\n",
       "    }\n",
       "\n",
       "    .dataframe thead th {\n",
       "        text-align: right;\n",
       "    }\n",
       "</style>\n",
       "<table border=\"1\" class=\"dataframe\">\n",
       "  <thead>\n",
       "    <tr style=\"text-align: right;\">\n",
       "      <th></th>\n",
       "      <th>_id</th>\n",
       "      <th>start_day</th>\n",
       "      <th>last_day</th>\n",
       "      <th>version</th>\n",
       "      <th>speed</th>\n",
       "      <th>id_country</th>\n",
       "      <th>square</th>\n",
       "      <th>territory</th>\n",
       "      <th>id_s</th>\n",
       "    </tr>\n",
       "  </thead>\n",
       "  <tbody>\n",
       "    <tr>\n",
       "      <th>0</th>\n",
       "      <td>01/04/2020https://tx10.america.travian.com</td>\n",
       "      <td>01/04/2020</td>\n",
       "      <td>21/04/2020</td>\n",
       "      <td>4.4</td>\n",
       "      <td>10</td>\n",
       "      <td>com</td>\n",
       "      <td>True</td>\n",
       "      <td>False</td>\n",
       "      <td>0</td>\n",
       "    </tr>\n",
       "    <tr>\n",
       "      <th>1</th>\n",
       "      <td>01/04/2020https://tx10.asia.travian.com</td>\n",
       "      <td>01/04/2020</td>\n",
       "      <td>21/04/2020</td>\n",
       "      <td>4.4</td>\n",
       "      <td>10</td>\n",
       "      <td>com</td>\n",
       "      <td>True</td>\n",
       "      <td>False</td>\n",
       "      <td>1</td>\n",
       "    </tr>\n",
       "    <tr>\n",
       "      <th>2</th>\n",
       "      <td>01/04/2020https://tx10.europe.travian.com</td>\n",
       "      <td>01/04/2020</td>\n",
       "      <td>16/04/2020</td>\n",
       "      <td>4.4</td>\n",
       "      <td>10</td>\n",
       "      <td>com</td>\n",
       "      <td>True</td>\n",
       "      <td>False</td>\n",
       "      <td>2</td>\n",
       "    </tr>\n",
       "    <tr>\n",
       "      <th>3</th>\n",
       "      <td>01/04/2020https://tx10.mena.travian.com</td>\n",
       "      <td>01/04/2020</td>\n",
       "      <td>22/04/2020</td>\n",
       "      <td>4.4</td>\n",
       "      <td>10</td>\n",
       "      <td>com</td>\n",
       "      <td>True</td>\n",
       "      <td>False</td>\n",
       "      <td>3</td>\n",
       "    </tr>\n",
       "    <tr>\n",
       "      <th>4</th>\n",
       "      <td>01/10/2019https://ts1.travian.jp</td>\n",
       "      <td>01/10/2019</td>\n",
       "      <td>19/04/2020</td>\n",
       "      <td>4.4</td>\n",
       "      <td>1</td>\n",
       "      <td>jp</td>\n",
       "      <td>True</td>\n",
       "      <td>False</td>\n",
       "      <td>4</td>\n",
       "    </tr>\n",
       "  </tbody>\n",
       "</table>\n",
       "</div>"
      ],
      "text/plain": [
       "                                          _id   start_day    last_day version  \\\n",
       "0  01/04/2020https://tx10.america.travian.com  01/04/2020  21/04/2020     4.4   \n",
       "1     01/04/2020https://tx10.asia.travian.com  01/04/2020  21/04/2020     4.4   \n",
       "2   01/04/2020https://tx10.europe.travian.com  01/04/2020  16/04/2020     4.4   \n",
       "3     01/04/2020https://tx10.mena.travian.com  01/04/2020  22/04/2020     4.4   \n",
       "4            01/10/2019https://ts1.travian.jp  01/10/2019  19/04/2020     4.4   \n",
       "\n",
       "  speed id_country  square  territory  id_s  \n",
       "0    10        com    True      False     0  \n",
       "1    10        com    True      False     1  \n",
       "2    10        com    True      False     2  \n",
       "3    10        com    True      False     3  \n",
       "4     1         jp    True      False     4  "
      ]
     },
     "execution_count": 10,
     "metadata": {},
     "output_type": "execute_result"
    }
   ],
   "source": [
    "S = pd.DataFrame(s)\n",
    "S[\"id_s\"] = S.index\n",
    "S.head()"
   ]
  },
  {
   "cell_type": "code",
   "execution_count": 13,
   "metadata": {},
   "outputs": [
    {
     "data": {
      "text/plain": [
       "False    245\n",
       "dtype: int64"
      ]
     },
     "execution_count": 13,
     "metadata": {},
     "output_type": "execute_result"
    }
   ],
   "source": [
    "S.duplicated(subset=[\"_id\"]).value_counts()"
   ]
  },
  {
   "cell_type": "code",
   "execution_count": 14,
   "metadata": {},
   "outputs": [],
   "source": [
    "S.to_csv(\"/home/jorge/tfm-jvm/data/clean/servers_features.csv\", index=False)"
   ]
  },
  {
   "cell_type": "code",
   "execution_count": 15,
   "metadata": {},
   "outputs": [],
   "source": [
    "del S"
   ]
  },
  {
   "cell_type": "markdown",
   "metadata": {},
   "source": [
    "### Get Alliances"
   ]
  },
  {
   "cell_type": "code",
   "execution_count": 34,
   "metadata": {},
   "outputs": [],
   "source": [
    "a = [(lambda x:{\"_id\":x[\"_id\"], \"id_a\":x[\"id_a\"], \"id_s\":x[\"id_s\"]})(x) for x in data if (x[\"type\"] == \"alliance\" and \"last_day\" in x and \"id_s\" in x)]"
   ]
  },
  {
   "cell_type": "code",
   "execution_count": 35,
   "metadata": {},
   "outputs": [
    {
     "data": {
      "text/html": [
       "<div>\n",
       "<style scoped>\n",
       "    .dataframe tbody tr th:only-of-type {\n",
       "        vertical-align: middle;\n",
       "    }\n",
       "\n",
       "    .dataframe tbody tr th {\n",
       "        vertical-align: top;\n",
       "    }\n",
       "\n",
       "    .dataframe thead th {\n",
       "        text-align: right;\n",
       "    }\n",
       "</style>\n",
       "<table border=\"1\" class=\"dataframe\">\n",
       "  <thead>\n",
       "    <tr style=\"text-align: right;\">\n",
       "      <th></th>\n",
       "      <th>_id</th>\n",
       "      <th>id_a</th>\n",
       "      <th>id_s</th>\n",
       "      <th>no_alliance</th>\n",
       "      <th>id_</th>\n",
       "    </tr>\n",
       "  </thead>\n",
       "  <tbody>\n",
       "    <tr>\n",
       "      <th>0</th>\n",
       "      <td>001/04/2020https://tx10.america.travian.coma</td>\n",
       "      <td>0</td>\n",
       "      <td>01/04/2020https://tx10.america.travian.com</td>\n",
       "      <td>True</td>\n",
       "      <td>0</td>\n",
       "    </tr>\n",
       "    <tr>\n",
       "      <th>1</th>\n",
       "      <td>001/04/2020https://tx10.asia.travian.coma</td>\n",
       "      <td>0</td>\n",
       "      <td>01/04/2020https://tx10.asia.travian.com</td>\n",
       "      <td>True</td>\n",
       "      <td>1</td>\n",
       "    </tr>\n",
       "    <tr>\n",
       "      <th>2</th>\n",
       "      <td>001/04/2020https://tx10.mena.travian.coma</td>\n",
       "      <td>0</td>\n",
       "      <td>01/04/2020https://tx10.mena.travian.com</td>\n",
       "      <td>True</td>\n",
       "      <td>2</td>\n",
       "    </tr>\n",
       "    <tr>\n",
       "      <th>3</th>\n",
       "      <td>001/10/2019https://ts1.travian.jpa</td>\n",
       "      <td>0</td>\n",
       "      <td>01/10/2019https://ts1.travian.jp</td>\n",
       "      <td>True</td>\n",
       "      <td>3</td>\n",
       "    </tr>\n",
       "    <tr>\n",
       "      <th>4</th>\n",
       "      <td>001/10/2019https://ts2.travian.rua</td>\n",
       "      <td>0</td>\n",
       "      <td>01/10/2019https://ts2.travian.ru</td>\n",
       "      <td>True</td>\n",
       "      <td>4</td>\n",
       "    </tr>\n",
       "  </tbody>\n",
       "</table>\n",
       "</div>"
      ],
      "text/plain": [
       "                                            _id  id_a  \\\n",
       "0  001/04/2020https://tx10.america.travian.coma     0   \n",
       "1     001/04/2020https://tx10.asia.travian.coma     0   \n",
       "2     001/04/2020https://tx10.mena.travian.coma     0   \n",
       "3            001/10/2019https://ts1.travian.jpa     0   \n",
       "4            001/10/2019https://ts2.travian.rua     0   \n",
       "\n",
       "                                         id_s  no_alliance  id_  \n",
       "0  01/04/2020https://tx10.america.travian.com         True    0  \n",
       "1     01/04/2020https://tx10.asia.travian.com         True    1  \n",
       "2     01/04/2020https://tx10.mena.travian.com         True    2  \n",
       "3            01/10/2019https://ts1.travian.jp         True    3  \n",
       "4            01/10/2019https://ts2.travian.ru         True    4  "
      ]
     },
     "execution_count": 35,
     "metadata": {},
     "output_type": "execute_result"
    }
   ],
   "source": [
    "A = pd.DataFrame(a)\n",
    "A[\"no_alliance\"] = A[\"id_a\"] == 0\n",
    "A[\"id_\"] = A.index\n",
    "A.head()"
   ]
  },
  {
   "cell_type": "code",
   "execution_count": 36,
   "metadata": {},
   "outputs": [
    {
     "data": {
      "text/plain": [
       "False    20914\n",
       "dtype: int64"
      ]
     },
     "execution_count": 36,
     "metadata": {},
     "output_type": "execute_result"
    }
   ],
   "source": [
    "A.duplicated(subset=[\"_id\"]).value_counts()"
   ]
  },
  {
   "cell_type": "code",
   "execution_count": 37,
   "metadata": {},
   "outputs": [],
   "source": [
    "A.to_csv(\"/home/jorge/tfm-jvm/data/clean/alliance_features.csv\", index=False)"
   ]
  },
  {
   "cell_type": "code",
   "execution_count": 38,
   "metadata": {},
   "outputs": [],
   "source": [
    "del A"
   ]
  },
  {
   "cell_type": "markdown",
   "metadata": {},
   "source": [
    "### Get Players"
   ]
  },
  {
   "cell_type": "code",
   "execution_count": 7,
   "metadata": {},
   "outputs": [],
   "source": [
    "p = [(lambda x:{\"_id\":x[\"_id\"], \"id_p\":x[\"id_p\"], \"id_s\":x[\"id_s\"]})(x) for x in data if (x[\"type\"] == \"player\" and \"last_day\" in x and \"id_s\" in x)]"
   ]
  },
  {
   "cell_type": "code",
   "execution_count": 8,
   "metadata": {},
   "outputs": [
    {
     "data": {
      "text/html": [
       "<div>\n",
       "<style scoped>\n",
       "    .dataframe tbody tr th:only-of-type {\n",
       "        vertical-align: middle;\n",
       "    }\n",
       "\n",
       "    .dataframe tbody tr th {\n",
       "        vertical-align: top;\n",
       "    }\n",
       "\n",
       "    .dataframe thead th {\n",
       "        text-align: right;\n",
       "    }\n",
       "</style>\n",
       "<table border=\"1\" class=\"dataframe\">\n",
       "  <thead>\n",
       "    <tr style=\"text-align: right;\">\n",
       "      <th></th>\n",
       "      <th>_id</th>\n",
       "      <th>id_p</th>\n",
       "      <th>id_s</th>\n",
       "      <th>id_</th>\n",
       "    </tr>\n",
       "  </thead>\n",
       "  <tbody>\n",
       "    <tr>\n",
       "      <th>0</th>\n",
       "      <td>1000001/04/2020https://tx10.asia.travian.comp</td>\n",
       "      <td>10000</td>\n",
       "      <td>01/04/2020https://tx10.asia.travian.com</td>\n",
       "      <td>0</td>\n",
       "    </tr>\n",
       "    <tr>\n",
       "      <th>1</th>\n",
       "      <td>1000013/03/2020https://ts1.travian.com.trp</td>\n",
       "      <td>10000</td>\n",
       "      <td>13/03/2020https://ts1.travian.com.tr</td>\n",
       "      <td>1</td>\n",
       "    </tr>\n",
       "    <tr>\n",
       "      <th>2</th>\n",
       "      <td>1000014/03/2020https://ts1.travian.com.trp</td>\n",
       "      <td>10000</td>\n",
       "      <td>14/03/2020https://ts1.travian.com.tr</td>\n",
       "      <td>2</td>\n",
       "    </tr>\n",
       "    <tr>\n",
       "      <th>3</th>\n",
       "      <td>1000016/04/2020https://ts20.arabics.travian.comp</td>\n",
       "      <td>10000</td>\n",
       "      <td>16/04/2020https://ts20.arabics.travian.com</td>\n",
       "      <td>3</td>\n",
       "    </tr>\n",
       "    <tr>\n",
       "      <th>4</th>\n",
       "      <td>1000016/04/2020https://ts20.travian.com.trp</td>\n",
       "      <td>10000</td>\n",
       "      <td>16/04/2020https://ts20.travian.com.tr</td>\n",
       "      <td>4</td>\n",
       "    </tr>\n",
       "    <tr>\n",
       "      <th>...</th>\n",
       "      <td>...</td>\n",
       "      <td>...</td>\n",
       "      <td>...</td>\n",
       "      <td>...</td>\n",
       "    </tr>\n",
       "    <tr>\n",
       "      <th>325245</th>\n",
       "      <td>999917/03/2020https://ts1.hispano.travian.comp</td>\n",
       "      <td>9999</td>\n",
       "      <td>17/03/2020https://ts1.hispano.travian.com</td>\n",
       "      <td>325245</td>\n",
       "    </tr>\n",
       "    <tr>\n",
       "      <th>325246</th>\n",
       "      <td>999917/03/2020https://ts4.czsk.travian.comp</td>\n",
       "      <td>9999</td>\n",
       "      <td>17/03/2020https://ts4.czsk.travian.com</td>\n",
       "      <td>325246</td>\n",
       "    </tr>\n",
       "    <tr>\n",
       "      <th>325247</th>\n",
       "      <td>999919/03/2020https://ts4.lusobrasileiro.travi...</td>\n",
       "      <td>9999</td>\n",
       "      <td>19/03/2020https://ts4.lusobrasileiro.travian.com</td>\n",
       "      <td>325247</td>\n",
       "    </tr>\n",
       "    <tr>\n",
       "      <th>325248</th>\n",
       "      <td>999920/03/2020https://ts4.lusobrasileiro.travi...</td>\n",
       "      <td>9999</td>\n",
       "      <td>20/03/2020https://ts4.lusobrasileiro.travian.com</td>\n",
       "      <td>325248</td>\n",
       "    </tr>\n",
       "    <tr>\n",
       "      <th>325249</th>\n",
       "      <td>999924/03/2020https://tx3.travian.comp</td>\n",
       "      <td>9999</td>\n",
       "      <td>24/03/2020https://tx3.travian.com</td>\n",
       "      <td>325249</td>\n",
       "    </tr>\n",
       "  </tbody>\n",
       "</table>\n",
       "<p>325250 rows × 4 columns</p>\n",
       "</div>"
      ],
      "text/plain": [
       "                                                      _id   id_p  \\\n",
       "0           1000001/04/2020https://tx10.asia.travian.comp  10000   \n",
       "1              1000013/03/2020https://ts1.travian.com.trp  10000   \n",
       "2              1000014/03/2020https://ts1.travian.com.trp  10000   \n",
       "3        1000016/04/2020https://ts20.arabics.travian.comp  10000   \n",
       "4             1000016/04/2020https://ts20.travian.com.trp  10000   \n",
       "...                                                   ...    ...   \n",
       "325245     999917/03/2020https://ts1.hispano.travian.comp   9999   \n",
       "325246        999917/03/2020https://ts4.czsk.travian.comp   9999   \n",
       "325247  999919/03/2020https://ts4.lusobrasileiro.travi...   9999   \n",
       "325248  999920/03/2020https://ts4.lusobrasileiro.travi...   9999   \n",
       "325249             999924/03/2020https://tx3.travian.comp   9999   \n",
       "\n",
       "                                                    id_s     id_  \n",
       "0                01/04/2020https://tx10.asia.travian.com       0  \n",
       "1                   13/03/2020https://ts1.travian.com.tr       1  \n",
       "2                   14/03/2020https://ts1.travian.com.tr       2  \n",
       "3             16/04/2020https://ts20.arabics.travian.com       3  \n",
       "4                  16/04/2020https://ts20.travian.com.tr       4  \n",
       "...                                                  ...     ...  \n",
       "325245         17/03/2020https://ts1.hispano.travian.com  325245  \n",
       "325246            17/03/2020https://ts4.czsk.travian.com  325246  \n",
       "325247  19/03/2020https://ts4.lusobrasileiro.travian.com  325247  \n",
       "325248  20/03/2020https://ts4.lusobrasileiro.travian.com  325248  \n",
       "325249                 24/03/2020https://tx3.travian.com  325249  \n",
       "\n",
       "[325250 rows x 4 columns]"
      ]
     },
     "execution_count": 8,
     "metadata": {},
     "output_type": "execute_result"
    }
   ],
   "source": [
    "P = pd.DataFrame(p)\n",
    "P[\"id_\"] = P.index\n",
    "P"
   ]
  },
  {
   "cell_type": "code",
   "execution_count": 41,
   "metadata": {},
   "outputs": [
    {
     "data": {
      "text/plain": [
       "False    325250\n",
       "dtype: int64"
      ]
     },
     "execution_count": 41,
     "metadata": {},
     "output_type": "execute_result"
    }
   ],
   "source": [
    "P.duplicated(subset=[\"_id\"]).value_counts()"
   ]
  },
  {
   "cell_type": "code",
   "execution_count": 42,
   "metadata": {},
   "outputs": [],
   "source": [
    "P.to_csv(\"/home/jorge/tfm-jvm/data/clean/player_features.csv\", index=False)"
   ]
  },
  {
   "cell_type": "code",
   "execution_count": 43,
   "metadata": {},
   "outputs": [],
   "source": [
    "del P"
   ]
  },
  {
   "cell_type": "markdown",
   "metadata": {},
   "source": [
    "### Get Player's"
   ]
  },
  {
   "cell_type": "markdown",
   "metadata": {},
   "source": [
    "### Get Villages"
   ]
  },
  {
   "cell_type": "code",
   "execution_count": 4,
   "metadata": {},
   "outputs": [],
   "source": [
    "def get_villages(x):\n",
    "    v = {\n",
    "        \"_id\":x[\"_id\"],\n",
    "        \"id_s\":x[\"id_s\"],\n",
    "        \"x\":x[\"x\"],\n",
    "        \"y\":x[\"y\"],\n",
    "        \"grid\":x[\"grid\"],\n",
    "    }\n",
    "    return v"
   ]
  },
  {
   "cell_type": "code",
   "execution_count": 5,
   "metadata": {},
   "outputs": [
    {
     "name": "stdout",
     "output_type": "stream",
     "text": [
      "CPU times: user 904 ms, sys: 62.7 ms, total: 967 ms\n",
      "Wall time: 970 ms\n"
     ]
    }
   ],
   "source": [
    "%%time\n",
    "v = [get_villages(x) for x in data if (x[\"type\"] == \"village\" and \"last_day\" in x and \"id_s\" in x)]"
   ]
  },
  {
   "cell_type": "code",
   "execution_count": 6,
   "metadata": {},
   "outputs": [
    {
     "data": {
      "text/plain": [
       "1267686"
      ]
     },
     "execution_count": 6,
     "metadata": {},
     "output_type": "execute_result"
    }
   ],
   "source": [
    "len(v)"
   ]
  },
  {
   "cell_type": "code",
   "execution_count": 30,
   "metadata": {},
   "outputs": [
    {
     "data": {
      "text/html": [
       "<div>\n",
       "<style scoped>\n",
       "    .dataframe tbody tr th:only-of-type {\n",
       "        vertical-align: middle;\n",
       "    }\n",
       "\n",
       "    .dataframe tbody tr th {\n",
       "        vertical-align: top;\n",
       "    }\n",
       "\n",
       "    .dataframe thead th {\n",
       "        text-align: right;\n",
       "    }\n",
       "</style>\n",
       "<table border=\"1\" class=\"dataframe\">\n",
       "  <thead>\n",
       "    <tr style=\"text-align: right;\">\n",
       "      <th></th>\n",
       "      <th>_id</th>\n",
       "      <th>id_s</th>\n",
       "      <th>x</th>\n",
       "      <th>y</th>\n",
       "      <th>grid</th>\n",
       "      <th>id_</th>\n",
       "    </tr>\n",
       "  </thead>\n",
       "  <tbody>\n",
       "    <tr>\n",
       "      <th>0</th>\n",
       "      <td>1000001/04/2020https://tx10.america.travian.comv</td>\n",
       "      <td>01/04/2020https://tx10.america.travian.com</td>\n",
       "      <td>54</td>\n",
       "      <td>-91</td>\n",
       "      <td>393746</td>\n",
       "      <td>0</td>\n",
       "    </tr>\n",
       "    <tr>\n",
       "      <th>1</th>\n",
       "      <td>1000001/04/2020https://tx10.asia.travian.comv</td>\n",
       "      <td>01/04/2020https://tx10.asia.travian.com</td>\n",
       "      <td>-28</td>\n",
       "      <td>-62</td>\n",
       "      <td>370435</td>\n",
       "      <td>1</td>\n",
       "    </tr>\n",
       "    <tr>\n",
       "      <th>2</th>\n",
       "      <td>1000002/04/2020https://tx10.america.travian.comv</td>\n",
       "      <td>02/04/2020https://tx10.america.travian.com</td>\n",
       "      <td>54</td>\n",
       "      <td>-91</td>\n",
       "      <td>393746</td>\n",
       "      <td>2</td>\n",
       "    </tr>\n",
       "    <tr>\n",
       "      <th>3</th>\n",
       "      <td>10000023/03/2020https://tx3.travian.comv</td>\n",
       "      <td>23/03/2020https://tx3.travian.com</td>\n",
       "      <td>-63</td>\n",
       "      <td>100</td>\n",
       "      <td>240638</td>\n",
       "      <td>3</td>\n",
       "    </tr>\n",
       "    <tr>\n",
       "      <th>4</th>\n",
       "      <td>10000024/03/2020https://tx3.travian.comv</td>\n",
       "      <td>24/03/2020https://tx3.travian.com</td>\n",
       "      <td>-63</td>\n",
       "      <td>100</td>\n",
       "      <td>240638</td>\n",
       "      <td>4</td>\n",
       "    </tr>\n",
       "  </tbody>\n",
       "</table>\n",
       "</div>"
      ],
      "text/plain": [
       "                                                _id  \\\n",
       "0  1000001/04/2020https://tx10.america.travian.comv   \n",
       "1     1000001/04/2020https://tx10.asia.travian.comv   \n",
       "2  1000002/04/2020https://tx10.america.travian.comv   \n",
       "3          10000023/03/2020https://tx3.travian.comv   \n",
       "4          10000024/03/2020https://tx3.travian.comv   \n",
       "\n",
       "                                         id_s   x    y    grid  id_  \n",
       "0  01/04/2020https://tx10.america.travian.com  54  -91  393746    0  \n",
       "1     01/04/2020https://tx10.asia.travian.com -28  -62  370435    1  \n",
       "2  02/04/2020https://tx10.america.travian.com  54  -91  393746    2  \n",
       "3           23/03/2020https://tx3.travian.com -63  100  240638    3  \n",
       "4           24/03/2020https://tx3.travian.com -63  100  240638    4  "
      ]
     },
     "execution_count": 30,
     "metadata": {},
     "output_type": "execute_result"
    }
   ],
   "source": [
    "V = pd.DataFrame(v)\n",
    "V[\"id_\"] = V.index\n",
    "V.head()"
   ]
  },
  {
   "cell_type": "code",
   "execution_count": 31,
   "metadata": {},
   "outputs": [
    {
     "data": {
      "text/plain": [
       "False    1267686\n",
       "dtype: int64"
      ]
     },
     "execution_count": 31,
     "metadata": {},
     "output_type": "execute_result"
    }
   ],
   "source": [
    "V.duplicated(subset=[\"_id\"]).value_counts()"
   ]
  },
  {
   "cell_type": "code",
   "execution_count": 32,
   "metadata": {},
   "outputs": [],
   "source": [
    "V.to_csv(\"/home/jorge/tfm-jvm/data/clean/villages_features.csv\", index=False)"
   ]
  },
  {
   "cell_type": "code",
   "execution_count": 33,
   "metadata": {},
   "outputs": [],
   "source": [
    "del V"
   ]
  },
  {
   "cell_type": "markdown",
   "metadata": {},
   "source": [
    "### Get Village's Recs "
   ]
  },
  {
   "cell_type": "code",
   "execution_count": 44,
   "metadata": {},
   "outputs": [],
   "source": [
    "def yield_rec(x):\n",
    "    pops = [datetime.strptime(j[1], \"%d/%m/%Y\").date() for j in x[\"population\"]]\n",
    "    pop = [j[0] for j in x[\"population\"]]\n",
    "    players = [datetime.strptime(j[1], \"%d/%m/%Y\").date() for j in x[\"id_p\"]]\n",
    "    player = [j[0] for j in x[\"id_p\"]]\n",
    "    races = [datetime.strptime(j[1], \"%d/%m/%Y\").date() for j in x[\"race\"]]\n",
    "    race = [j[0] for j in x[\"race\"]]\n",
    "    ld = datetime.strptime(x[\"last_day\"], \"%d/%m/%Y\").date()\n",
    "    \n",
    "    fpop = pop.pop(0)\n",
    "    fplayer = player.pop(0)\n",
    "    frace = race.pop(0)\n",
    "    day = pops.pop(0)\n",
    "    players.pop(0)\n",
    "    races.pop(0)\n",
    "    rec = [x[\"_id\"], x[\"id_s\"], fpop, day, fplayer, frace]\n",
    "    \n",
    "    recs = []\n",
    "    while day < ld:\n",
    "        recs.append(rec[:])\n",
    "        day = day +  timedelta(days=1)\n",
    "        rec[3] = day\n",
    "        \n",
    "        #Lo gordo\n",
    "        if day in pops:\n",
    "            pops.pop(0)\n",
    "            rec[2] = pop.pop(0)\n",
    "        if day in players:\n",
    "            players.pop(0)\n",
    "            rec[4] = player.pop(0)\n",
    "        if day in races:\n",
    "            races.pop(0)\n",
    "            rec[5] = race.pop(0)\n",
    "            \n",
    "        \n",
    "        \n",
    "        \n",
    "    return recs"
   ]
  },
  {
   "cell_type": "code",
   "execution_count": 45,
   "metadata": {},
   "outputs": [
    {
     "name": "stdout",
     "output_type": "stream",
     "text": [
      "CPU times: user 1min 9s, sys: 596 ms, total: 1min 10s\n",
      "Wall time: 1min 10s\n"
     ]
    }
   ],
   "source": [
    "%%time\n",
    "recs = [yield_rec(x) for x in data if (x[\"type\"] == \"village\" and \"last_day\" in x and \"id_s\" in x)]"
   ]
  },
  {
   "cell_type": "code",
   "execution_count": 47,
   "metadata": {},
   "outputs": [
    {
     "name": "stdout",
     "output_type": "stream",
     "text": [
      "CPU times: user 245 ms, sys: 26 ms, total: 271 ms\n",
      "Wall time: 270 ms\n"
     ]
    }
   ],
   "source": [
    "%%time\n",
    "frecs = [item for subl in recs for item in subl]"
   ]
  },
  {
   "cell_type": "code",
   "execution_count": 51,
   "metadata": {},
   "outputs": [
    {
     "name": "stdout",
     "output_type": "stream",
     "text": [
      "CPU times: user 6.84 s, sys: 721 ms, total: 7.56 s\n",
      "Wall time: 7.59 s\n"
     ]
    },
    {
     "data": {
      "text/html": [
       "<div>\n",
       "<style scoped>\n",
       "    .dataframe tbody tr th:only-of-type {\n",
       "        vertical-align: middle;\n",
       "    }\n",
       "\n",
       "    .dataframe tbody tr th {\n",
       "        vertical-align: top;\n",
       "    }\n",
       "\n",
       "    .dataframe thead th {\n",
       "        text-align: right;\n",
       "    }\n",
       "</style>\n",
       "<table border=\"1\" class=\"dataframe\">\n",
       "  <thead>\n",
       "    <tr style=\"text-align: right;\">\n",
       "      <th></th>\n",
       "      <th>_id</th>\n",
       "      <th>id_s</th>\n",
       "      <th>pop</th>\n",
       "      <th>day</th>\n",
       "      <th>player</th>\n",
       "      <th>race</th>\n",
       "    </tr>\n",
       "  </thead>\n",
       "  <tbody>\n",
       "    <tr>\n",
       "      <th>0</th>\n",
       "      <td>1000001/04/2020https://tx10.america.travian.comv</td>\n",
       "      <td>01/04/2020https://tx10.america.travian.com</td>\n",
       "      <td>400</td>\n",
       "      <td>2020-04-06</td>\n",
       "      <td>9874</td>\n",
       "      <td>6</td>\n",
       "    </tr>\n",
       "    <tr>\n",
       "      <th>1</th>\n",
       "      <td>1000001/04/2020https://tx10.america.travian.comv</td>\n",
       "      <td>01/04/2020https://tx10.america.travian.com</td>\n",
       "      <td>505</td>\n",
       "      <td>2020-04-07</td>\n",
       "      <td>9874</td>\n",
       "      <td>6</td>\n",
       "    </tr>\n",
       "    <tr>\n",
       "      <th>2</th>\n",
       "      <td>1000001/04/2020https://tx10.america.travian.comv</td>\n",
       "      <td>01/04/2020https://tx10.america.travian.com</td>\n",
       "      <td>554</td>\n",
       "      <td>2020-04-08</td>\n",
       "      <td>9874</td>\n",
       "      <td>6</td>\n",
       "    </tr>\n",
       "    <tr>\n",
       "      <th>3</th>\n",
       "      <td>1000001/04/2020https://tx10.america.travian.comv</td>\n",
       "      <td>01/04/2020https://tx10.america.travian.com</td>\n",
       "      <td>554</td>\n",
       "      <td>2020-04-09</td>\n",
       "      <td>9874</td>\n",
       "      <td>6</td>\n",
       "    </tr>\n",
       "    <tr>\n",
       "      <th>4</th>\n",
       "      <td>1000001/04/2020https://tx10.america.travian.comv</td>\n",
       "      <td>01/04/2020https://tx10.america.travian.com</td>\n",
       "      <td>631</td>\n",
       "      <td>2020-04-10</td>\n",
       "      <td>9874</td>\n",
       "      <td>6</td>\n",
       "    </tr>\n",
       "  </tbody>\n",
       "</table>\n",
       "</div>"
      ],
      "text/plain": [
       "                                                _id  \\\n",
       "0  1000001/04/2020https://tx10.america.travian.comv   \n",
       "1  1000001/04/2020https://tx10.america.travian.comv   \n",
       "2  1000001/04/2020https://tx10.america.travian.comv   \n",
       "3  1000001/04/2020https://tx10.america.travian.comv   \n",
       "4  1000001/04/2020https://tx10.america.travian.comv   \n",
       "\n",
       "                                         id_s  pop         day  player  race  \n",
       "0  01/04/2020https://tx10.america.travian.com  400  2020-04-06    9874     6  \n",
       "1  01/04/2020https://tx10.america.travian.com  505  2020-04-07    9874     6  \n",
       "2  01/04/2020https://tx10.america.travian.com  554  2020-04-08    9874     6  \n",
       "3  01/04/2020https://tx10.america.travian.com  554  2020-04-09    9874     6  \n",
       "4  01/04/2020https://tx10.america.travian.com  631  2020-04-10    9874     6  "
      ]
     },
     "execution_count": 51,
     "metadata": {},
     "output_type": "execute_result"
    }
   ],
   "source": [
    "%%time\n",
    "Recs = pd.DataFrame(frecs, columns=[\"_id\", \"id_s\", \"pop\", \"day\", \"player\", \"race\"])\n",
    "Recs.head()"
   ]
  },
  {
   "cell_type": "code",
   "execution_count": 57,
   "metadata": {},
   "outputs": [
    {
     "data": {
      "text/plain": [
       "False    11269884\n",
       "dtype: int64"
      ]
     },
     "execution_count": 57,
     "metadata": {},
     "output_type": "execute_result"
    }
   ],
   "source": [
    "Recs.duplicated(subset=[\"_id\", \"day\"]).value_counts()"
   ]
  },
  {
   "cell_type": "code",
   "execution_count": 58,
   "metadata": {},
   "outputs": [
    {
     "name": "stdout",
     "output_type": "stream",
     "text": [
      "CPU times: user 27.4 s, sys: 541 ms, total: 28 s\n",
      "Wall time: 28.1 s\n"
     ]
    }
   ],
   "source": [
    "%%time\n",
    "Recs.to_csv(\"/home/jorge/tfm-jvm/data/clean/recs_post_raw.csv\", index=False)"
   ]
  }
 ],
 "metadata": {
  "kernelspec": {
   "display_name": "Python 3",
   "language": "python",
   "name": "python3"
  },
  "language_info": {
   "codemirror_mode": {
    "name": "ipython",
    "version": 3
   },
   "file_extension": ".py",
   "mimetype": "text/x-python",
   "name": "python",
   "nbconvert_exporter": "python",
   "pygments_lexer": "ipython3",
   "version": "3.7.6"
  }
 },
 "nbformat": 4,
 "nbformat_minor": 4
}
