{
 "cells": [
  {
   "cell_type": "code",
   "execution_count": 1,
   "metadata": {},
   "outputs": [],
   "source": [
    "import pandas as pd\n",
    "import numpy as np\n",
    "import matplotlib.pyplot as plt"
   ]
  },
  {
   "cell_type": "code",
   "execution_count": 2,
   "metadata": {},
   "outputs": [],
   "source": [
    "res = pd.read_csv(\"/home/jorge/tfm-jvm/data/simulations/results.csv\")"
   ]
  },
  {
   "cell_type": "code",
   "execution_count": 3,
   "metadata": {},
   "outputs": [
    {
     "data": {
      "text/html": [
       "<div>\n",
       "<style scoped>\n",
       "    .dataframe tbody tr th:only-of-type {\n",
       "        vertical-align: middle;\n",
       "    }\n",
       "\n",
       "    .dataframe tbody tr th {\n",
       "        vertical-align: top;\n",
       "    }\n",
       "\n",
       "    .dataframe thead th {\n",
       "        text-align: right;\n",
       "    }\n",
       "</style>\n",
       "<table border=\"1\" class=\"dataframe\">\n",
       "  <thead>\n",
       "    <tr style=\"text-align: right;\">\n",
       "      <th></th>\n",
       "      <th>N_last</th>\n",
       "      <th>N_first</th>\n",
       "      <th>N_diff_positive</th>\n",
       "      <th>N_diff_negative</th>\n",
       "      <th>pop_sum_mean</th>\n",
       "      <th>pop_sum_std</th>\n",
       "      <th>pop_mean_mean</th>\n",
       "      <th>pop_mean_std</th>\n",
       "      <th>norm2_mean_mean</th>\n",
       "      <th>norm2_mean_std</th>\n",
       "      <th>...</th>\n",
       "      <th>egipcios_increase</th>\n",
       "      <th>hunos_increase</th>\n",
       "      <th>rs_day_last</th>\n",
       "      <th>p_play</th>\n",
       "      <th>p_play_weekend</th>\n",
       "      <th>p_play_week</th>\n",
       "      <th>cluster</th>\n",
       "      <th>y</th>\n",
       "      <th>y_pred</th>\n",
       "      <th>correct</th>\n",
       "    </tr>\n",
       "  </thead>\n",
       "  <tbody>\n",
       "    <tr>\n",
       "      <th>0</th>\n",
       "      <td>2</td>\n",
       "      <td>1</td>\n",
       "      <td>1.0</td>\n",
       "      <td>0.0</td>\n",
       "      <td>363.571429</td>\n",
       "      <td>95.507168</td>\n",
       "      <td>215.285714</td>\n",
       "      <td>23.165810</td>\n",
       "      <td>158.414070</td>\n",
       "      <td>3.225470e+01</td>\n",
       "      <td>...</td>\n",
       "      <td>0</td>\n",
       "      <td>0</td>\n",
       "      <td>30</td>\n",
       "      <td>0.857143</td>\n",
       "      <td>1.0</td>\n",
       "      <td>0.8</td>\n",
       "      <td>1</td>\n",
       "      <td>False</td>\n",
       "      <td>False</td>\n",
       "      <td>True</td>\n",
       "    </tr>\n",
       "    <tr>\n",
       "      <th>1</th>\n",
       "      <td>18</td>\n",
       "      <td>18</td>\n",
       "      <td>1.0</td>\n",
       "      <td>-1.0</td>\n",
       "      <td>13189.285714</td>\n",
       "      <td>195.110835</td>\n",
       "      <td>721.559315</td>\n",
       "      <td>14.288555</td>\n",
       "      <td>134.257975</td>\n",
       "      <td>2.000458e-01</td>\n",
       "      <td>...</td>\n",
       "      <td>0</td>\n",
       "      <td>0</td>\n",
       "      <td>169</td>\n",
       "      <td>0.714286</td>\n",
       "      <td>0.5</td>\n",
       "      <td>0.8</td>\n",
       "      <td>1</td>\n",
       "      <td>False</td>\n",
       "      <td>False</td>\n",
       "      <td>True</td>\n",
       "    </tr>\n",
       "    <tr>\n",
       "      <th>2</th>\n",
       "      <td>4</td>\n",
       "      <td>4</td>\n",
       "      <td>0.0</td>\n",
       "      <td>0.0</td>\n",
       "      <td>826.571429</td>\n",
       "      <td>17.793792</td>\n",
       "      <td>206.642857</td>\n",
       "      <td>4.448448</td>\n",
       "      <td>148.677358</td>\n",
       "      <td>0.000000e+00</td>\n",
       "      <td>...</td>\n",
       "      <td>0</td>\n",
       "      <td>0</td>\n",
       "      <td>198</td>\n",
       "      <td>0.857143</td>\n",
       "      <td>0.5</td>\n",
       "      <td>1.0</td>\n",
       "      <td>3</td>\n",
       "      <td>False</td>\n",
       "      <td>False</td>\n",
       "      <td>True</td>\n",
       "    </tr>\n",
       "    <tr>\n",
       "      <th>3</th>\n",
       "      <td>2</td>\n",
       "      <td>2</td>\n",
       "      <td>0.0</td>\n",
       "      <td>0.0</td>\n",
       "      <td>641.714286</td>\n",
       "      <td>84.649698</td>\n",
       "      <td>320.857143</td>\n",
       "      <td>42.324849</td>\n",
       "      <td>75.412550</td>\n",
       "      <td>0.000000e+00</td>\n",
       "      <td>...</td>\n",
       "      <td>0</td>\n",
       "      <td>0</td>\n",
       "      <td>30</td>\n",
       "      <td>0.285714</td>\n",
       "      <td>0.5</td>\n",
       "      <td>0.2</td>\n",
       "      <td>0</td>\n",
       "      <td>False</td>\n",
       "      <td>False</td>\n",
       "      <td>True</td>\n",
       "    </tr>\n",
       "    <tr>\n",
       "      <th>4</th>\n",
       "      <td>3</td>\n",
       "      <td>2</td>\n",
       "      <td>1.0</td>\n",
       "      <td>0.0</td>\n",
       "      <td>970.571429</td>\n",
       "      <td>171.330925</td>\n",
       "      <td>358.619048</td>\n",
       "      <td>22.865491</td>\n",
       "      <td>46.784507</td>\n",
       "      <td>2.116625e-01</td>\n",
       "      <td>...</td>\n",
       "      <td>0</td>\n",
       "      <td>0</td>\n",
       "      <td>28</td>\n",
       "      <td>0.857143</td>\n",
       "      <td>1.0</td>\n",
       "      <td>0.8</td>\n",
       "      <td>2</td>\n",
       "      <td>False</td>\n",
       "      <td>False</td>\n",
       "      <td>True</td>\n",
       "    </tr>\n",
       "    <tr>\n",
       "      <th>...</th>\n",
       "      <td>...</td>\n",
       "      <td>...</td>\n",
       "      <td>...</td>\n",
       "      <td>...</td>\n",
       "      <td>...</td>\n",
       "      <td>...</td>\n",
       "      <td>...</td>\n",
       "      <td>...</td>\n",
       "      <td>...</td>\n",
       "      <td>...</td>\n",
       "      <td>...</td>\n",
       "      <td>...</td>\n",
       "      <td>...</td>\n",
       "      <td>...</td>\n",
       "      <td>...</td>\n",
       "      <td>...</td>\n",
       "      <td>...</td>\n",
       "      <td>...</td>\n",
       "      <td>...</td>\n",
       "      <td>...</td>\n",
       "      <td>...</td>\n",
       "    </tr>\n",
       "    <tr>\n",
       "      <th>58871</th>\n",
       "      <td>8</td>\n",
       "      <td>5</td>\n",
       "      <td>3.0</td>\n",
       "      <td>0.0</td>\n",
       "      <td>2770.428571</td>\n",
       "      <td>710.122726</td>\n",
       "      <td>446.412925</td>\n",
       "      <td>42.438965</td>\n",
       "      <td>127.982549</td>\n",
       "      <td>3.057145e-01</td>\n",
       "      <td>...</td>\n",
       "      <td>0</td>\n",
       "      <td>0</td>\n",
       "      <td>19</td>\n",
       "      <td>0.857143</td>\n",
       "      <td>1.0</td>\n",
       "      <td>0.8</td>\n",
       "      <td>1</td>\n",
       "      <td>False</td>\n",
       "      <td>False</td>\n",
       "      <td>True</td>\n",
       "    </tr>\n",
       "    <tr>\n",
       "      <th>58872</th>\n",
       "      <td>5</td>\n",
       "      <td>4</td>\n",
       "      <td>1.0</td>\n",
       "      <td>0.0</td>\n",
       "      <td>2088.285714</td>\n",
       "      <td>182.857608</td>\n",
       "      <td>445.007143</td>\n",
       "      <td>36.413189</td>\n",
       "      <td>116.850623</td>\n",
       "      <td>1.383709e+00</td>\n",
       "      <td>...</td>\n",
       "      <td>0</td>\n",
       "      <td>0</td>\n",
       "      <td>23</td>\n",
       "      <td>0.285714</td>\n",
       "      <td>0.5</td>\n",
       "      <td>0.2</td>\n",
       "      <td>0</td>\n",
       "      <td>False</td>\n",
       "      <td>False</td>\n",
       "      <td>True</td>\n",
       "    </tr>\n",
       "    <tr>\n",
       "      <th>58873</th>\n",
       "      <td>2</td>\n",
       "      <td>2</td>\n",
       "      <td>0.0</td>\n",
       "      <td>0.0</td>\n",
       "      <td>692.142857</td>\n",
       "      <td>33.268747</td>\n",
       "      <td>346.071429</td>\n",
       "      <td>16.634373</td>\n",
       "      <td>82.379451</td>\n",
       "      <td>1.534948e-14</td>\n",
       "      <td>...</td>\n",
       "      <td>0</td>\n",
       "      <td>0</td>\n",
       "      <td>38</td>\n",
       "      <td>0.857143</td>\n",
       "      <td>1.0</td>\n",
       "      <td>0.8</td>\n",
       "      <td>0</td>\n",
       "      <td>False</td>\n",
       "      <td>False</td>\n",
       "      <td>True</td>\n",
       "    </tr>\n",
       "    <tr>\n",
       "      <th>58874</th>\n",
       "      <td>18</td>\n",
       "      <td>17</td>\n",
       "      <td>1.0</td>\n",
       "      <td>0.0</td>\n",
       "      <td>12425.571429</td>\n",
       "      <td>309.615814</td>\n",
       "      <td>695.906162</td>\n",
       "      <td>14.059623</td>\n",
       "      <td>117.176201</td>\n",
       "      <td>1.598582e-01</td>\n",
       "      <td>...</td>\n",
       "      <td>0</td>\n",
       "      <td>0</td>\n",
       "      <td>198</td>\n",
       "      <td>1.000000</td>\n",
       "      <td>1.0</td>\n",
       "      <td>1.0</td>\n",
       "      <td>0</td>\n",
       "      <td>False</td>\n",
       "      <td>False</td>\n",
       "      <td>True</td>\n",
       "    </tr>\n",
       "    <tr>\n",
       "      <th>58875</th>\n",
       "      <td>3</td>\n",
       "      <td>2</td>\n",
       "      <td>1.0</td>\n",
       "      <td>0.0</td>\n",
       "      <td>835.142857</td>\n",
       "      <td>113.766469</td>\n",
       "      <td>370.833333</td>\n",
       "      <td>39.640631</td>\n",
       "      <td>103.192033</td>\n",
       "      <td>3.620539e-01</td>\n",
       "      <td>...</td>\n",
       "      <td>0</td>\n",
       "      <td>0</td>\n",
       "      <td>35</td>\n",
       "      <td>1.000000</td>\n",
       "      <td>1.0</td>\n",
       "      <td>1.0</td>\n",
       "      <td>2</td>\n",
       "      <td>False</td>\n",
       "      <td>False</td>\n",
       "      <td>True</td>\n",
       "    </tr>\n",
       "  </tbody>\n",
       "</table>\n",
       "<p>58876 rows × 32 columns</p>\n",
       "</div>"
      ],
      "text/plain": [
       "       N_last  N_first  N_diff_positive  N_diff_negative  pop_sum_mean  \\\n",
       "0           2        1              1.0              0.0    363.571429   \n",
       "1          18       18              1.0             -1.0  13189.285714   \n",
       "2           4        4              0.0              0.0    826.571429   \n",
       "3           2        2              0.0              0.0    641.714286   \n",
       "4           3        2              1.0              0.0    970.571429   \n",
       "...       ...      ...              ...              ...           ...   \n",
       "58871       8        5              3.0              0.0   2770.428571   \n",
       "58872       5        4              1.0              0.0   2088.285714   \n",
       "58873       2        2              0.0              0.0    692.142857   \n",
       "58874      18       17              1.0              0.0  12425.571429   \n",
       "58875       3        2              1.0              0.0    835.142857   \n",
       "\n",
       "       pop_sum_std  pop_mean_mean  pop_mean_std  norm2_mean_mean  \\\n",
       "0        95.507168     215.285714     23.165810       158.414070   \n",
       "1       195.110835     721.559315     14.288555       134.257975   \n",
       "2        17.793792     206.642857      4.448448       148.677358   \n",
       "3        84.649698     320.857143     42.324849        75.412550   \n",
       "4       171.330925     358.619048     22.865491        46.784507   \n",
       "...            ...            ...           ...              ...   \n",
       "58871   710.122726     446.412925     42.438965       127.982549   \n",
       "58872   182.857608     445.007143     36.413189       116.850623   \n",
       "58873    33.268747     346.071429     16.634373        82.379451   \n",
       "58874   309.615814     695.906162     14.059623       117.176201   \n",
       "58875   113.766469     370.833333     39.640631       103.192033   \n",
       "\n",
       "       norm2_mean_std  ...  egipcios_increase  hunos_increase  rs_day_last  \\\n",
       "0        3.225470e+01  ...                  0               0           30   \n",
       "1        2.000458e-01  ...                  0               0          169   \n",
       "2        0.000000e+00  ...                  0               0          198   \n",
       "3        0.000000e+00  ...                  0               0           30   \n",
       "4        2.116625e-01  ...                  0               0           28   \n",
       "...               ...  ...                ...             ...          ...   \n",
       "58871    3.057145e-01  ...                  0               0           19   \n",
       "58872    1.383709e+00  ...                  0               0           23   \n",
       "58873    1.534948e-14  ...                  0               0           38   \n",
       "58874    1.598582e-01  ...                  0               0          198   \n",
       "58875    3.620539e-01  ...                  0               0           35   \n",
       "\n",
       "         p_play  p_play_weekend  p_play_week  cluster      y  y_pred  correct  \n",
       "0      0.857143             1.0          0.8        1  False   False     True  \n",
       "1      0.714286             0.5          0.8        1  False   False     True  \n",
       "2      0.857143             0.5          1.0        3  False   False     True  \n",
       "3      0.285714             0.5          0.2        0  False   False     True  \n",
       "4      0.857143             1.0          0.8        2  False   False     True  \n",
       "...         ...             ...          ...      ...    ...     ...      ...  \n",
       "58871  0.857143             1.0          0.8        1  False   False     True  \n",
       "58872  0.285714             0.5          0.2        0  False   False     True  \n",
       "58873  0.857143             1.0          0.8        0  False   False     True  \n",
       "58874  1.000000             1.0          1.0        0  False   False     True  \n",
       "58875  1.000000             1.0          1.0        2  False   False     True  \n",
       "\n",
       "[58876 rows x 32 columns]"
      ]
     },
     "execution_count": 3,
     "metadata": {},
     "output_type": "execute_result"
    }
   ],
   "source": [
    "res"
   ]
  },
  {
   "cell_type": "code",
   "execution_count": 4,
   "metadata": {},
   "outputs": [
    {
     "name": "stdout",
     "output_type": "stream",
     "text": [
      "CPU times: user 4.03 s, sys: 0 ns, total: 4.03 s\n",
      "Wall time: 4.03 s\n"
     ]
    }
   ],
   "source": [
    "%%time\n",
    "def get_race(x):\n",
    "    if x[0] > x[1] and x[0] > x[2] and x[0] > x[3] and x[0] > x[4]:\n",
    "        return \"Romanos\"\n",
    "    elif x[1] > x[2] and x[1] > x[3] and x[1] > x[4]:\n",
    "        return \"Germanos\"\n",
    "    elif x[2] > x[3] and x[2] > x[4]:\n",
    "        return \"Galos\"\n",
    "    elif x[3] > x[4]:\n",
    "        return \"Egipcios\"\n",
    "    elif x[4] > x[1] and x[4] > x[2] and x[4] > x[3] and x[4] > x[0]:\n",
    "        return \"Hunos\"\n",
    "    else:\n",
    "        return None\n",
    "    \n",
    "res[\"race\"] = res[['romanos', 'germanos', 'galos', 'egipcios','hunos']].apply(get_race, axis=1)"
   ]
  },
  {
   "cell_type": "code",
   "execution_count": 5,
   "metadata": {},
   "outputs": [],
   "source": [
    "#Matplotlibs defines\n",
    "plt.rcParams.update({'figure.autolayout': True})\n",
    "plt.style.use('fivethirtyeight')"
   ]
  },
  {
   "cell_type": "code",
   "execution_count": 36,
   "metadata": {},
   "outputs": [
    {
     "name": "stderr",
     "output_type": "stream",
     "text": [
      "The PostScript backend does not support transparency; partially transparent artists will be rendered opaque.\n",
      "The PostScript backend does not support transparency; partially transparent artists will be rendered opaque.\n"
     ]
    },
    {
     "data": {
      "image/png": "[encoded data removed]",
      "text/plain": [
       "<Figure size 720x504 with 1 Axes>"
      ]
     },
     "metadata": {},
     "output_type": "display_data"
    }
   ],
   "source": [
    "def autolabel(rects):\n",
    "    i = 0\n",
    "    for rect in rects:\n",
    "        \n",
    "        height = rect.get_height()\n",
    "        ax.annotate('{}'.format(per[i]),\n",
    "                    xy=(rect.get_x() + rect.get_width() / 2, height),\n",
    "                    xytext=(0, 3),  # 3 points vertical offset\n",
    "                    textcoords=\"offset points\",\n",
    "                    ha='center', va='bottom')\n",
    "        i += 1\n",
    "        \n",
    "trues = res[res[\"correct\"] == True].groupby(\"race\")[\"correct\"].count().values\n",
    "falses = res[res[\"correct\"] == False].groupby(\"race\")[\"correct\"].count().values\n",
    "tot = res.groupby(\"race\")[\"correct\"].count().values\n",
    "per = [round(x,3) for x in falses/tot]\n",
    "labels = ['Egipcios', 'Galos', 'Germanos', 'Hunos', 'Romanos']\n",
    "\n",
    "width = 0.35 \n",
    "\n",
    "fig, ax = plt.subplots(figsize=(10,7))\n",
    "AXA = ax.bar(labels, trues, width, label='Aciertos')\n",
    "ax.bar(labels, falses, width, label='Fallos')\n",
    "\n",
    "\n",
    "ax.set_ylabel('Número de jugadores evaluados')\n",
    "ax.set_title('Aciertos y fallos en función de la raza elegida')\n",
    "legend = ax.legend(frameon=True)\n",
    "legend.get_frame().set_facecolor((1, 1, 1))\n",
    "autolabel(AXA)\n",
    "\n",
    "fig.savefig(fname=\"/home/jorge/tfm-jvm/memoria/oficial/figures/race_accur.eps\")"
   ]
  },
  {
   "cell_type": "code",
   "execution_count": 88,
   "metadata": {},
   "outputs": [
    {
     "data": {
      "text/plain": [
       "rs_day_last\n",
       "8      0.500000\n",
       "9      0.500000\n",
       "10     0.000000\n",
       "11     0.250000\n",
       "12     0.049261\n",
       "         ...   \n",
       "266    0.500000\n",
       "267    0.333333\n",
       "268    0.000000\n",
       "269    0.000000\n",
       "273    0.000000\n",
       "Length: 175, dtype: float64"
      ]
     },
     "execution_count": 88,
     "metadata": {},
     "output_type": "execute_result"
    }
   ],
   "source": [
    "res.groupby(by=\"rs_day_last\").apply(lambda x: x[x[\"correct\"]==False][\"correct\"].count()/x[\"correct\"].count())"
   ]
  },
  {
   "cell_type": "code",
   "execution_count": 90,
   "metadata": {},
   "outputs": [
    {
     "data": {
      "image/png": "[encoded data removed]",
      "text/plain": [
       "<Figure size 720x432 with 1 Axes>"
      ]
     },
     "metadata": {},
     "output_type": "display_data"
    }
   ],
   "source": [
    "temp = res.groupby(\"rs_day_last\")[\"correct\"].apply(lambda x: x[x==True].count())\n",
    "days = temp.index.tolist()\n",
    "trues = temp.values.tolist()\n",
    "falses = res.groupby(\"rs_day_last\")[\"correct\"].apply(lambda x: x[x==False].count()).values.tolist()\n",
    "cc = res.groupby(by=\"rs_day_last\").apply(lambda x: x[x[\"correct\"]==False][\"correct\"].count()).cumsum().values\n",
    "\n",
    "\n",
    "width = 0.4\n",
    "fig, axs = plt.subplots(figsize=(10,6))\n",
    "#ax.bar(x- width/2, trues, width = 0.35, label=\"Aciertos\")\n",
    "axs.bar(days, falses, width = 0.35, label=\"Fallos\")\n",
    "axs.set_ylabel('Fallos')\n",
    "axs.set_xlabel('Día relativo')\n",
    "fig.suptitle('Predicciones falladas en función del día del servidor')\n",
    "\n",
    "\n",
    "\n",
    "\n",
    "fig.savefig(fname=\"/home/jorge/tfm-jvm/memoria/oficial/figures/rs_correct_in.eps\")"
   ]
  },
  {
   "cell_type": "code",
   "execution_count": 193,
   "metadata": {},
   "outputs": [
    {
     "data": {
      "text/plain": [
       "-126.7682538480231"
      ]
     },
     "execution_count": 193,
     "metadata": {},
     "output_type": "execute_result"
    }
   ],
   "source": [
    "(y- cc).sum()"
   ]
  },
  {
   "cell_type": "code",
   "execution_count": 182,
   "metadata": {},
   "outputs": [
    {
     "data": {
      "text/plain": [
       "39.441523806371315"
      ]
     },
     "execution_count": 182,
     "metadata": {},
     "output_type": "execute_result"
    }
   ],
   "source": [
    "cc.max()"
   ]
  },
  {
   "cell_type": "code",
   "execution_count": 178,
   "metadata": {},
   "outputs": [
    {
     "data": {
      "text/plain": [
       "0.14694914643913704"
      ]
     },
     "execution_count": 178,
     "metadata": {},
     "output_type": "execute_result"
    }
   ],
   "source": [
    "(cc.max()-cc.min())/(days[-1]-days[0])"
   ]
  },
  {
   "cell_type": "code",
   "execution_count": 176,
   "metadata": {},
   "outputs": [
    {
     "data": {
      "text/plain": [
       "0.5"
      ]
     },
     "execution_count": 176,
     "metadata": {},
     "output_type": "execute_result"
    }
   ],
   "source": [
    "cc.min()"
   ]
  },
  {
   "cell_type": "code",
   "execution_count": 186,
   "metadata": {},
   "outputs": [
    {
     "data": {
      "text/plain": [
       "0.6755931715130963"
      ]
     },
     "execution_count": 186,
     "metadata": {},
     "output_type": "execute_result"
    }
   ],
   "source": [
    "np.array(days)*(cc.max()-cc.min())/(days[-1]-days[0])"
   ]
  },
  {
   "cell_type": "code",
   "execution_count": 174,
   "metadata": {},
   "outputs": [
    {
     "data": {
      "text/plain": [
       "8"
      ]
     },
     "execution_count": 174,
     "metadata": {},
     "output_type": "execute_result"
    }
   ],
   "source": [
    "days[0]"
   ]
  },
  {
   "cell_type": "code",
   "execution_count": 203,
   "metadata": {},
   "outputs": [
    {
     "data": {
      "text/plain": [
       "174"
      ]
     },
     "execution_count": 203,
     "metadata": {},
     "output_type": "execute_result"
    }
   ],
   "source": [
    "len(np.diff(cc-y))"
   ]
  },
  {
   "cell_type": "code",
   "execution_count": 8,
   "metadata": {},
   "outputs": [
    {
     "name": "stderr",
     "output_type": "stream",
     "text": [
      "The PostScript backend does not support transparency; partially transparent artists will be rendered opaque.\n",
      "The PostScript backend does not support transparency; partially transparent artists will be rendered opaque.\n"
     ]
    },
    {
     "data": {
      "image/png": "[encoded data removed]",
      "text/plain": [
       "<Figure size 720x432 with 1 Axes>"
      ]
     },
     "metadata": {},
     "output_type": "display_data"
    }
   ],
   "source": [
    "temp = res.groupby(by=\"rs_day_last\").apply(lambda x: x[x[\"correct\"]==False][\"correct\"].count()/x[\"correct\"].count()).cumsum()\n",
    "days = temp.index.tolist()\n",
    "#y = np.repeat(0.022538013603640744, len(days)) * days\n",
    "cc = temp.values\n",
    "y = np.array(days)*(cc.max()-cc.min())/(days[-1]-days[0]) - 0.6755931715130963\n",
    "\n",
    "\n",
    "fig, ax = plt.subplots(figsize=(10,6))\n",
    "ax.plot(days, cc, label=\"Suma acumulada de ratio de fallos\")\n",
    "ax.plot(days, y, dashes=[6, 2],label=\"Referencia\")\n",
    "ax.plot(days[1:], np.diff(cc-y), label=\"Acierto\")\n",
    "\n",
    "ax.set_title(\"Suma acumulada de ratio de fallos\")\n",
    "ax.set_ylabel('Suma acumulada')\n",
    "ax.set_xlabel('Día relativo')\n",
    "\n",
    "legend = ax.legend(frameon=True)\n",
    "legend.get_frame().set_facecolor((1, 1, 1))\n",
    "\n",
    "fig.savefig(fname=\"/home/jorge/tfm-jvm/memoria/oficial/figures/rs_cum.eps\")"
   ]
  },
  {
   "cell_type": "code",
   "execution_count": null,
   "metadata": {},
   "outputs": [],
   "source": []
  }
 ],
 "metadata": {
  "kernelspec": {
   "display_name": "Python 3",
   "language": "python",
   "name": "python3"
  },
  "language_info": {
   "codemirror_mode": {
    "name": "ipython",
    "version": 3
   },
   "file_extension": ".py",
   "mimetype": "text/x-python",
   "name": "python",
   "nbconvert_exporter": "python",
   "pygments_lexer": "ipython3",
   "version": "3.7.6"
  }
 },
 "nbformat": 4,
 "nbformat_minor": 4
}
